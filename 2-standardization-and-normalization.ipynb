{
 "cells": [
  {
   "cell_type": "code",
   "execution_count": 1,
   "id": "198ea164",
   "metadata": {
    "_cell_guid": "b1076dfc-b9ad-4769-8c92-a6c4dae69d19",
    "_uuid": "8f2839f25d086af736a60e9eeb907d3b93b6e0e5",
    "execution": {
     "iopub.execute_input": "2024-02-20T08:44:15.330294Z",
     "iopub.status.busy": "2024-02-20T08:44:15.329952Z",
     "iopub.status.idle": "2024-02-20T08:44:16.125622Z",
     "shell.execute_reply": "2024-02-20T08:44:16.124622Z"
    },
    "papermill": {
     "duration": 0.802984,
     "end_time": "2024-02-20T08:44:16.128261",
     "exception": false,
     "start_time": "2024-02-20T08:44:15.325277",
     "status": "completed"
    },
    "tags": []
   },
   "outputs": [],
   "source": [
    "# This Python 3 environment comes with many helpful analytics libraries installed\n",
    "# It is defined by the kaggle/python Docker image: https://github.com/kaggle/docker-python\n",
    "# For example, here's several helpful packages to load\n",
    "\n",
    "import numpy as np # linear algebra\n",
    "import pandas as pd # data processing, CSV file I/O (e.g. pd.read_csv)\n",
    "\n",
    "# Input data files are available in the read-only \"../input/\" directory\n",
    "# For example, running this (by clicking run or pressing Shift+Enter) will list all files under the input directory\n",
    "\n",
    "import os\n",
    "for dirname, _, filenames in os.walk('/kaggle/input'):\n",
    "    for filename in filenames:\n",
    "        print(os.path.join(dirname, filename))\n",
    "\n",
    "# You can write up to 20GB to the current directory (/kaggle/working/) that gets preserved as output when you create a version using \"Save & Run All\" \n",
    "# You can also write temporary files to /kaggle/temp/, but they won't be saved outside of the current session"
   ]
  },
  {
   "cell_type": "markdown",
   "id": "0c2191fb",
   "metadata": {
    "papermill": {
     "duration": 0.001777,
     "end_time": "2024-02-20T08:44:16.132321",
     "exception": false,
     "start_time": "2024-02-20T08:44:16.130544",
     "status": "completed"
    },
    "tags": []
   },
   "source": [
    "# Standardization\n",
    "Standardization refers to rescaling the features so that they have the properties of a standard normal distribution with a mean of 0 and a standard deviation of 1. It's useful for algorithms that assume the input features to be normally distributed, such as logistic regression, linear regression, and support vector machines. Standardization is performed using the formula:\n",
    "\n",
    "z= (x−μ)/σ\n",
    "\n",
    "where \n",
    "x is the original feature value, \n",
    "μ is the mean of the feature, and \n",
    "σ is the standard deviation of the feature."
   ]
  },
  {
   "cell_type": "markdown",
   "id": "8eb15cb3",
   "metadata": {
    "execution": {
     "iopub.execute_input": "2024-02-18T08:34:20.874293Z",
     "iopub.status.busy": "2024-02-18T08:34:20.873943Z",
     "iopub.status.idle": "2024-02-18T08:34:20.882192Z",
     "shell.execute_reply": "2024-02-18T08:34:20.880601Z",
     "shell.execute_reply.started": "2024-02-18T08:34:20.874248Z"
    },
    "papermill": {
     "duration": 0.001632,
     "end_time": "2024-02-20T08:44:16.135902",
     "exception": false,
     "start_time": "2024-02-20T08:44:16.134270",
     "status": "completed"
    },
    "tags": []
   },
   "source": [
    "# Normalization\n",
    "Normalization, or Min-Max scaling, rescales the features to a fixed range, typically [0, 1], without distorting differences in the ranges of values or losing information. It is useful for algorithms that do not assume any distribution of the data, like k-nearest neighbors and neural networks. Normalization is performed using the formula:\n",
    "\n",
    "x = (max(x)−min(x))/(x−min(x))\n",
    "    \n",
    "where \n",
    "x is the original value, \n",
    "min(x) is the minimum value in the feature column, and \n",
    "max(x) is the maximum value in the feature column."
   ]
  },
  {
   "cell_type": "code",
   "execution_count": 2,
   "id": "ce9f2e56",
   "metadata": {
    "execution": {
     "iopub.execute_input": "2024-02-20T08:44:16.141391Z",
     "iopub.status.busy": "2024-02-20T08:44:16.140912Z",
     "iopub.status.idle": "2024-02-20T08:44:17.429052Z",
     "shell.execute_reply": "2024-02-20T08:44:17.427830Z"
    },
    "papermill": {
     "duration": 1.294078,
     "end_time": "2024-02-20T08:44:17.431811",
     "exception": false,
     "start_time": "2024-02-20T08:44:16.137733",
     "status": "completed"
    },
    "tags": []
   },
   "outputs": [
    {
     "name": "stdout",
     "output_type": "stream",
     "text": [
      "Standardized training data (first 5 rows):\n",
      "   sepal length (cm)  sepal width (cm)  petal length (cm)  petal width (cm)\n",
      "0          -1.473937          1.203658          -1.562535         -1.312603\n",
      "1          -0.133071          2.992376          -1.276006         -1.045633\n",
      "2           1.085898          0.085709           0.385858          0.289218\n",
      "3          -1.230143          0.756479          -1.218701         -1.312603\n",
      "4          -1.717731          0.309299          -1.390618         -1.312603\n",
      "\n",
      "Normalized training data (first 5 rows):\n",
      "   sepal length (cm)  sepal width (cm)  petal length (cm)  petal width (cm)\n",
      "0           0.088235          0.666667           0.000000          0.041667\n",
      "1           0.411765          1.000000           0.087719          0.125000\n",
      "2           0.705882          0.458333           0.596491          0.541667\n",
      "3           0.147059          0.583333           0.105263          0.041667\n",
      "4           0.029412          0.500000           0.052632          0.041667\n"
     ]
    }
   ],
   "source": [
    "from sklearn.datasets import load_iris\n",
    "from sklearn.model_selection import train_test_split\n",
    "from sklearn.preprocessing import StandardScaler, MinMaxScaler\n",
    "import pandas as pd\n",
    "\n",
    "# Load Iris dataset\n",
    "iris = load_iris()\n",
    "X = iris.data\n",
    "y = iris.target\n",
    "\n",
    "# Splitting dataset into training and testing set\n",
    "X_train, X_test, y_train, y_test = train_test_split(X, y, test_size=0.2, random_state=42)\n",
    "\n",
    "# Standardization\n",
    "scaler = StandardScaler()\n",
    "X_train_standardized = scaler.fit_transform(X_train)\n",
    "X_test_standardized = scaler.transform(X_test)\n",
    "\n",
    "# Normalization\n",
    "min_max_scaler = MinMaxScaler()\n",
    "X_train_normalized = min_max_scaler.fit_transform(X_train)\n",
    "X_test_normalized = min_max_scaler.transform(X_test)\n",
    "\n",
    "# Convert to DataFrame for better visualization\n",
    "X_train_standardized_df = pd.DataFrame(X_train_standardized, columns=iris.feature_names)\n",
    "X_train_normalized_df = pd.DataFrame(X_train_normalized, columns=iris.feature_names)\n",
    "\n",
    "print(\"Standardized training data (first 5 rows):\")\n",
    "print(X_train_standardized_df.head())\n",
    "\n",
    "print(\"\\nNormalized training data (first 5 rows):\")\n",
    "print(X_train_normalized_df.head())"
   ]
  }
 ],
 "metadata": {
  "kaggle": {
   "accelerator": "none",
   "dataSources": [],
   "dockerImageVersionId": 30646,
   "isGpuEnabled": false,
   "isInternetEnabled": true,
   "language": "python",
   "sourceType": "notebook"
  },
  "kernelspec": {
   "display_name": "Python 3",
   "language": "python",
   "name": "python3"
  },
  "language_info": {
   "codemirror_mode": {
    "name": "ipython",
    "version": 3
   },
   "file_extension": ".py",
   "mimetype": "text/x-python",
   "name": "python",
   "nbconvert_exporter": "python",
   "pygments_lexer": "ipython3",
   "version": "3.10.13"
  },
  "papermill": {
   "default_parameters": {},
   "duration": 7.990239,
   "end_time": "2024-02-20T08:44:20.697495",
   "environment_variables": {},
   "exception": null,
   "input_path": "__notebook__.ipynb",
   "output_path": "__notebook__.ipynb",
   "parameters": {},
   "start_time": "2024-02-20T08:44:12.707256",
   "version": "2.5.0"
  }
 },
 "nbformat": 4,
 "nbformat_minor": 5
}
