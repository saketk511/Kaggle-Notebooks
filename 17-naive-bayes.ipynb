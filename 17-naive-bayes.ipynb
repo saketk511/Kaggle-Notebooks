{
 "cells": [
  {
   "cell_type": "code",
   "execution_count": 1,
   "id": "b075f06d",
   "metadata": {
    "_cell_guid": "b1076dfc-b9ad-4769-8c92-a6c4dae69d19",
    "_uuid": "8f2839f25d086af736a60e9eeb907d3b93b6e0e5",
    "execution": {
     "iopub.execute_input": "2024-02-23T04:46:22.732123Z",
     "iopub.status.busy": "2024-02-23T04:46:22.731628Z",
     "iopub.status.idle": "2024-02-23T04:46:23.695875Z",
     "shell.execute_reply": "2024-02-23T04:46:23.694401Z"
    },
    "papermill": {
     "duration": 0.972341,
     "end_time": "2024-02-23T04:46:23.698735",
     "exception": false,
     "start_time": "2024-02-23T04:46:22.726394",
     "status": "completed"
    },
    "tags": []
   },
   "outputs": [],
   "source": [
    "# This Python 3 environment comes with many helpful analytics libraries installed\n",
    "# It is defined by the kaggle/python Docker image: https://github.com/kaggle/docker-python\n",
    "# For example, here's several helpful packages to load\n",
    "\n",
    "import numpy as np # linear algebra\n",
    "import pandas as pd # data processing, CSV file I/O (e.g. pd.read_csv)\n",
    "\n",
    "# Input data files are available in the read-only \"../input/\" directory\n",
    "# For example, running this (by clicking run or pressing Shift+Enter) will list all files under the input directory\n",
    "\n",
    "import os\n",
    "for dirname, _, filenames in os.walk('/kaggle/input'):\n",
    "    for filename in filenames:\n",
    "        print(os.path.join(dirname, filename))\n",
    "\n",
    "# You can write up to 20GB to the current directory (/kaggle/working/) that gets preserved as output when you create a version using \"Save & Run All\" \n",
    "# You can also write temporary files to /kaggle/temp/, but they won't be saved outside of the current session"
   ]
  },
  {
   "cell_type": "markdown",
   "id": "537111ec",
   "metadata": {
    "papermill": {
     "duration": 0.002101,
     "end_time": "2024-02-23T04:46:23.703638",
     "exception": false,
     "start_time": "2024-02-23T04:46:23.701537",
     "status": "completed"
    },
    "tags": []
   },
   "source": [
    "#### Naive Bayes\n",
    "Naive Bayes is a family of simple probabilistic classifiers based on applying Bayes' theorem with strong (naive) independence assumptions between the features. Naive Bayes classifiers are highly scalable and well suited for large datasets."
   ]
  },
  {
   "cell_type": "markdown",
   "id": "96009171",
   "metadata": {
    "papermill": {
     "duration": 0.002001,
     "end_time": "2024-02-23T04:46:23.707925",
     "exception": false,
     "start_time": "2024-02-23T04:46:23.705924",
     "status": "completed"
    },
    "tags": []
   },
   "source": [
    "#### Variants\n",
    "Naive Bayes Variants:\n",
    "Gaussian Naive Bayes: Assumes that features follow a Gaussian distribution.\n",
    "\n",
    "Multinomial Naive Bayes: Suitable for features that represent counts or frequencies.\n",
    "\n",
    "Bernoulli Naive Bayes: Suitable for binary features."
   ]
  },
  {
   "cell_type": "code",
   "execution_count": 2,
   "id": "8c959347",
   "metadata": {
    "execution": {
     "iopub.execute_input": "2024-02-23T04:46:23.714727Z",
     "iopub.status.busy": "2024-02-23T04:46:23.714090Z",
     "iopub.status.idle": "2024-02-23T04:46:25.231064Z",
     "shell.execute_reply": "2024-02-23T04:46:25.229524Z"
    },
    "papermill": {
     "duration": 1.523746,
     "end_time": "2024-02-23T04:46:25.233824",
     "exception": false,
     "start_time": "2024-02-23T04:46:23.710078",
     "status": "completed"
    },
    "tags": []
   },
   "outputs": [
    {
     "name": "stdout",
     "output_type": "stream",
     "text": [
      "Accuracy: 0.9777777777777777\n"
     ]
    }
   ],
   "source": [
    "# Import necessary libraries\n",
    "from sklearn.datasets import load_iris\n",
    "from sklearn.model_selection import train_test_split\n",
    "from sklearn.naive_bayes import GaussianNB\n",
    "from sklearn.metrics import accuracy_score\n",
    "\n",
    "# Load the Iris dataset\n",
    "iris = load_iris()\n",
    "X, y = iris.data, iris.target\n",
    "\n",
    "# Split the dataset into training and testing sets\n",
    "X_train, X_test, y_train, y_test = train_test_split(X, y, test_size=0.3, random_state=42)\n",
    "\n",
    "# Initialize the Gaussian Naive Bayes classifier\n",
    "gnb = GaussianNB()\n",
    "\n",
    "# Train the classifier\n",
    "gnb.fit(X_train, y_train)\n",
    "\n",
    "# Make predictions\n",
    "y_pred = gnb.predict(X_test)\n",
    "\n",
    "# Calculate accuracy\n",
    "accuracy = accuracy_score(y_test, y_pred)\n",
    "print(\"Accuracy:\", accuracy)"
   ]
  }
 ],
 "metadata": {
  "kaggle": {
   "accelerator": "none",
   "dataSources": [],
   "dockerImageVersionId": 30646,
   "isGpuEnabled": false,
   "isInternetEnabled": true,
   "language": "python",
   "sourceType": "notebook"
  },
  "kernelspec": {
   "display_name": "Python 3",
   "language": "python",
   "name": "python3"
  },
  "language_info": {
   "codemirror_mode": {
    "name": "ipython",
    "version": 3
   },
   "file_extension": ".py",
   "mimetype": "text/x-python",
   "name": "python",
   "nbconvert_exporter": "python",
   "pygments_lexer": "ipython3",
   "version": "3.10.13"
  },
  "papermill": {
   "default_parameters": {},
   "duration": 6.384711,
   "end_time": "2024-02-23T04:46:25.960443",
   "environment_variables": {},
   "exception": null,
   "input_path": "__notebook__.ipynb",
   "output_path": "__notebook__.ipynb",
   "parameters": {},
   "start_time": "2024-02-23T04:46:19.575732",
   "version": "2.5.0"
  }
 },
 "nbformat": 4,
 "nbformat_minor": 5
}
