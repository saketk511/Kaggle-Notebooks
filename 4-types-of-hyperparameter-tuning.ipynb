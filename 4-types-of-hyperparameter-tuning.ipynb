{
 "cells": [
  {
   "cell_type": "code",
   "execution_count": 1,
   "id": "1e15783b",
   "metadata": {
    "_cell_guid": "b1076dfc-b9ad-4769-8c92-a6c4dae69d19",
    "_uuid": "8f2839f25d086af736a60e9eeb907d3b93b6e0e5",
    "execution": {
     "iopub.execute_input": "2024-02-20T10:48:44.703208Z",
     "iopub.status.busy": "2024-02-20T10:48:44.702736Z",
     "iopub.status.idle": "2024-02-20T10:48:45.706116Z",
     "shell.execute_reply": "2024-02-20T10:48:45.704972Z"
    },
    "papermill": {
     "duration": 1.012525,
     "end_time": "2024-02-20T10:48:45.708927",
     "exception": false,
     "start_time": "2024-02-20T10:48:44.696402",
     "status": "completed"
    },
    "tags": []
   },
   "outputs": [],
   "source": [
    "# This Python 3 environment comes with many helpful analytics libraries installed\n",
    "# It is defined by the kaggle/python Docker image: https://github.com/kaggle/docker-python\n",
    "# For example, here's several helpful packages to load\n",
    "\n",
    "import numpy as np # linear algebra\n",
    "import pandas as pd # data processing, CSV file I/O (e.g. pd.read_csv)\n",
    "\n",
    "# Input data files are available in the read-only \"../input/\" directory\n",
    "# For example, running this (by clicking run or pressing Shift+Enter) will list all files under the input directory\n",
    "\n",
    "import os\n",
    "for dirname, _, filenames in os.walk('/kaggle/input'):\n",
    "    for filename in filenames:\n",
    "        print(os.path.join(dirname, filename))\n",
    "\n",
    "# You can write up to 20GB to the current directory (/kaggle/working/) that gets preserved as output when you create a version using \"Save & Run All\" \n",
    "# You can also write temporary files to /kaggle/temp/, but they won't be saved outside of the current session"
   ]
  },
  {
   "cell_type": "markdown",
   "id": "e6d39a93",
   "metadata": {
    "papermill": {
     "duration": 0.003257,
     "end_time": "2024-02-20T10:48:45.716068",
     "exception": false,
     "start_time": "2024-02-20T10:48:45.712811",
     "status": "completed"
    },
    "tags": []
   },
   "source": [
    "#### Grid Search:\n",
    "\n",
    "Grid search systematically searches through a predefined grid of hyperparameters.\n",
    "It evaluates each combination of hyperparameters using cross-validation to find the optimal set."
   ]
  },
  {
   "cell_type": "markdown",
   "id": "ba8fd770",
   "metadata": {
    "papermill": {
     "duration": 0.003147,
     "end_time": "2024-02-20T10:48:45.722646",
     "exception": false,
     "start_time": "2024-02-20T10:48:45.719499",
     "status": "completed"
    },
    "tags": []
   },
   "source": [
    "#### Random Search:\n",
    "\n",
    "Random search randomly samples hyperparameter combinations from predefined distributions.\n",
    "It evaluates a fixed number of randomly chosen combinations to find the best performing one."
   ]
  },
  {
   "cell_type": "markdown",
   "id": "1675a2e0",
   "metadata": {
    "papermill": {
     "duration": 0.003099,
     "end_time": "2024-02-20T10:48:45.729146",
     "exception": false,
     "start_time": "2024-02-20T10:48:45.726047",
     "status": "completed"
    },
    "tags": []
   },
   "source": [
    "#### Bayesian Optimization:\n",
    "\n",
    "Bayesian optimization models the objective function and its uncertainty using probabilistic models.\n",
    "It intelligently selects the next set of hyperparameters to evaluate, based on past observations, to efficiently find the optimal solution."
   ]
  },
  {
   "cell_type": "markdown",
   "id": "69090675",
   "metadata": {
    "papermill": {
     "duration": 0.003066,
     "end_time": "2024-02-20T10:48:45.735581",
     "exception": false,
     "start_time": "2024-02-20T10:48:45.732515",
     "status": "completed"
    },
    "tags": []
   },
   "source": [
    "#### Difference:\n",
    "Grid search exhaustively evaluates all hyperparameter combinations, while random search randomly samples combinations. Bayesian optimization uses past observations to guide the selection of future hyperparameter combinations, making it more efficient in finding the optimal solution with fewer evaluations."
   ]
  },
  {
   "cell_type": "code",
   "execution_count": 2,
   "id": "ea4d5a3b",
   "metadata": {
    "execution": {
     "iopub.execute_input": "2024-02-20T10:48:45.745365Z",
     "iopub.status.busy": "2024-02-20T10:48:45.744769Z",
     "iopub.status.idle": "2024-02-20T10:49:00.434789Z",
     "shell.execute_reply": "2024-02-20T10:49:00.433159Z"
    },
    "papermill": {
     "duration": 14.698789,
     "end_time": "2024-02-20T10:49:00.438191",
     "exception": false,
     "start_time": "2024-02-20T10:48:45.739402",
     "status": "completed"
    },
    "tags": []
   },
   "outputs": [
    {
     "name": "stdout",
     "output_type": "stream",
     "text": [
      "Best parameters: {'max_depth': None, 'n_estimators': 50}\n"
     ]
    }
   ],
   "source": [
    "# Grid Search Example\n",
    "from sklearn.model_selection import GridSearchCV\n",
    "from sklearn.ensemble import RandomForestClassifier\n",
    "from sklearn.datasets import load_iris\n",
    "\n",
    "iris = load_iris()\n",
    "X, y = iris.data, iris.target\n",
    "\n",
    "param_grid = {'n_estimators': [50, 100, 200],\n",
    "              'max_depth': [None, 10, 20]}\n",
    "\n",
    "grid_search = GridSearchCV(RandomForestClassifier(), param_grid, cv=5)\n",
    "grid_search.fit(X, y)\n",
    "print(\"Best parameters:\", grid_search.best_params_)"
   ]
  },
  {
   "cell_type": "code",
   "execution_count": 3,
   "id": "60a14cf2",
   "metadata": {
    "execution": {
     "iopub.execute_input": "2024-02-20T10:49:00.448003Z",
     "iopub.status.busy": "2024-02-20T10:49:00.447329Z",
     "iopub.status.idle": "2024-02-20T10:49:11.325926Z",
     "shell.execute_reply": "2024-02-20T10:49:11.324287Z"
    },
    "papermill": {
     "duration": 10.886887,
     "end_time": "2024-02-20T10:49:11.328989",
     "exception": false,
     "start_time": "2024-02-20T10:49:00.442102",
     "status": "completed"
    },
    "tags": []
   },
   "outputs": [
    {
     "name": "stdout",
     "output_type": "stream",
     "text": [
      "Best parameters: {'max_depth': 20, 'n_estimators': 98}\n"
     ]
    }
   ],
   "source": [
    "# Random Search Example\n",
    "from sklearn.model_selection import RandomizedSearchCV\n",
    "from scipy.stats import randint\n",
    "from sklearn.ensemble import RandomForestClassifier\n",
    "from sklearn.datasets import load_iris\n",
    "\n",
    "iris = load_iris()\n",
    "X, y = iris.data, iris.target\n",
    "\n",
    "param_dist = {'n_estimators': randint(50, 200),\n",
    "              'max_depth': [None, 10, 20]}\n",
    "\n",
    "random_search = RandomizedSearchCV(RandomForestClassifier(), param_distributions=param_dist, n_iter=10, cv=5)\n",
    "random_search.fit(X, y)\n",
    "print(\"Best parameters:\", random_search.best_params_)"
   ]
  },
  {
   "cell_type": "markdown",
   "id": "7f62a4e4",
   "metadata": {
    "papermill": {
     "duration": 0.003371,
     "end_time": "2024-02-20T10:49:11.336142",
     "exception": false,
     "start_time": "2024-02-20T10:49:11.332771",
     "status": "completed"
    },
    "tags": []
   },
   "source": [
    "##### Bayesian Optimization Example\n",
    "import warnings\n",
    "\n",
    "from skopt import BayesSearchCV\n",
    "\n",
    "from sklearn.ensemble import RandomForestClassifier\n",
    "\n",
    "from sklearn.datasets import load_iris\n",
    "\n",
    "iris = load_iris()\n",
    "\n",
    "X, y = iris.data, iris.target\n",
    "\n",
    "param_dist = {'n_estimators': (50, 200),\n",
    "              'max_depth': (1, 20)}\n",
    "\n",
    "bayes_search = BayesSearchCV(RandomForestClassifier(), param_dist, n_iter=10, cv=5)\n",
    "\n",
    "bayes_search.fit(X, y)\n",
    "\n",
    "print(\"Best parameters:\", bayes_search.best_params_)"
   ]
  }
 ],
 "metadata": {
  "kaggle": {
   "accelerator": "none",
   "dataSources": [],
   "dockerImageVersionId": 30646,
   "isGpuEnabled": false,
   "isInternetEnabled": true,
   "language": "python",
   "sourceType": "notebook"
  },
  "kernelspec": {
   "display_name": "Python 3",
   "language": "python",
   "name": "python3"
  },
  "language_info": {
   "codemirror_mode": {
    "name": "ipython",
    "version": 3
   },
   "file_extension": ".py",
   "mimetype": "text/x-python",
   "name": "python",
   "nbconvert_exporter": "python",
   "pygments_lexer": "ipython3",
   "version": "3.10.13"
  },
  "papermill": {
   "default_parameters": {},
   "duration": 30.529972,
   "end_time": "2024-02-20T10:49:11.964147",
   "environment_variables": {},
   "exception": null,
   "input_path": "__notebook__.ipynb",
   "output_path": "__notebook__.ipynb",
   "parameters": {},
   "start_time": "2024-02-20T10:48:41.434175",
   "version": "2.5.0"
  }
 },
 "nbformat": 4,
 "nbformat_minor": 5
}
