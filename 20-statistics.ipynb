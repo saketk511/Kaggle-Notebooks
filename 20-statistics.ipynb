{
 "cells": [
  {
   "cell_type": "code",
   "execution_count": 1,
   "id": "53b53587",
   "metadata": {
    "_cell_guid": "b1076dfc-b9ad-4769-8c92-a6c4dae69d19",
    "_uuid": "8f2839f25d086af736a60e9eeb907d3b93b6e0e5",
    "execution": {
     "iopub.execute_input": "2024-02-24T15:07:07.032807Z",
     "iopub.status.busy": "2024-02-24T15:07:07.032404Z",
     "iopub.status.idle": "2024-02-24T15:07:08.141580Z",
     "shell.execute_reply": "2024-02-24T15:07:08.139605Z"
    },
    "papermill": {
     "duration": 1.125483,
     "end_time": "2024-02-24T15:07:08.144833",
     "exception": false,
     "start_time": "2024-02-24T15:07:07.019350",
     "status": "completed"
    },
    "tags": []
   },
   "outputs": [
    {
     "name": "stdout",
     "output_type": "stream",
     "text": [
      "/kaggle/input/1500-unsplash-images-metadata/1500 Unsplash Images Metadata.csv\n"
     ]
    }
   ],
   "source": [
    "# This Python 3 environment comes with many helpful analytics libraries installed\n",
    "# It is defined by the kaggle/python Docker image: https://github.com/kaggle/docker-python\n",
    "# For example, here's several helpful packages to load\n",
    "\n",
    "import numpy as np # linear algebra\n",
    "import pandas as pd # data processing, CSV file I/O (e.g. pd.read_csv)\n",
    "\n",
    "# Input data files are available in the read-only \"../input/\" directory\n",
    "# For example, running this (by clicking run or pressing Shift+Enter) will list all files under the input directory\n",
    "\n",
    "import os\n",
    "for dirname, _, filenames in os.walk('/kaggle/input'):\n",
    "    for filename in filenames:\n",
    "        print(os.path.join(dirname, filename))\n",
    "\n",
    "# You can write up to 20GB to the current directory (/kaggle/working/) that gets preserved as output when you create a version using \"Save & Run All\" \n",
    "# You can also write temporary files to /kaggle/temp/, but they won't be saved outside of the current session"
   ]
  },
  {
   "cell_type": "code",
   "execution_count": 2,
   "id": "bd2f5f36",
   "metadata": {
    "execution": {
     "iopub.execute_input": "2024-02-24T15:07:08.168069Z",
     "iopub.status.busy": "2024-02-24T15:07:08.167337Z",
     "iopub.status.idle": "2024-02-24T15:07:11.771431Z",
     "shell.execute_reply": "2024-02-24T15:07:11.769266Z"
    },
    "papermill": {
     "duration": 3.619882,
     "end_time": "2024-02-24T15:07:11.775306",
     "exception": false,
     "start_time": "2024-02-24T15:07:08.155424",
     "status": "completed"
    },
    "tags": []
   },
   "outputs": [],
   "source": [
    "import warnings\n",
    "warnings.filterwarnings('ignore')\n",
    "from scipy.stats import norm\n",
    "from scipy.stats import ttest_1samp, ttest_rel, ttest_ind\n",
    "from statsmodels.stats.proportion import proportions_ztest\n",
    "from scipy.stats import chi2_contingency, f_oneway\n",
    "import statsmodels.api as sm"
   ]
  },
  {
   "cell_type": "code",
   "execution_count": 3,
   "id": "5f2286d3",
   "metadata": {
    "execution": {
     "iopub.execute_input": "2024-02-24T15:07:11.798812Z",
     "iopub.status.busy": "2024-02-24T15:07:11.798109Z",
     "iopub.status.idle": "2024-02-24T15:07:11.849137Z",
     "shell.execute_reply": "2024-02-24T15:07:11.847594Z"
    },
    "papermill": {
     "duration": 0.066069,
     "end_time": "2024-02-24T15:07:11.852198",
     "exception": false,
     "start_time": "2024-02-24T15:07:11.786129",
     "status": "completed"
    },
    "tags": []
   },
   "outputs": [
    {
     "data": {
      "text/html": [
       "<div>\n",
       "<style scoped>\n",
       "    .dataframe tbody tr th:only-of-type {\n",
       "        vertical-align: middle;\n",
       "    }\n",
       "\n",
       "    .dataframe tbody tr th {\n",
       "        vertical-align: top;\n",
       "    }\n",
       "\n",
       "    .dataframe thead th {\n",
       "        text-align: right;\n",
       "    }\n",
       "</style>\n",
       "<table border=\"1\" class=\"dataframe\">\n",
       "  <thead>\n",
       "    <tr style=\"text-align: right;\">\n",
       "      <th></th>\n",
       "      <th>id</th>\n",
       "      <th>width</th>\n",
       "      <th>height</th>\n",
       "      <th>color</th>\n",
       "      <th>downloads</th>\n",
       "      <th>likes</th>\n",
       "      <th>make</th>\n",
       "      <th>model</th>\n",
       "      <th>exposure_time</th>\n",
       "      <th>aperture</th>\n",
       "      <th>focal_length</th>\n",
       "      <th>iso</th>\n",
       "      <th>city</th>\n",
       "      <th>country</th>\n",
       "    </tr>\n",
       "  </thead>\n",
       "  <tbody>\n",
       "    <tr>\n",
       "      <th>0</th>\n",
       "      <td>uI3CBm8udb4</td>\n",
       "      <td>2345</td>\n",
       "      <td>2931</td>\n",
       "      <td>#264040</td>\n",
       "      <td>4287</td>\n",
       "      <td>118</td>\n",
       "      <td>HUAWEI</td>\n",
       "      <td>VOG-L29</td>\n",
       "      <td>1/1000</td>\n",
       "      <td>3.4</td>\n",
       "      <td>14.5</td>\n",
       "      <td>100</td>\n",
       "      <td>Unknown</td>\n",
       "      <td>Portugal</td>\n",
       "    </tr>\n",
       "    <tr>\n",
       "      <th>1</th>\n",
       "      <td>Mbd2gOxxK5I</td>\n",
       "      <td>3351</td>\n",
       "      <td>4189</td>\n",
       "      <td>#EFEFEF</td>\n",
       "      <td>2511</td>\n",
       "      <td>28</td>\n",
       "      <td>SONY</td>\n",
       "      <td>ILCE-7M3</td>\n",
       "      <td>Unknown</td>\n",
       "      <td>1.4</td>\n",
       "      <td>85</td>\n",
       "      <td>100</td>\n",
       "      <td>Unknown</td>\n",
       "      <td>Unknown</td>\n",
       "    </tr>\n",
       "    <tr>\n",
       "      <th>2</th>\n",
       "      <td>im3Zz7gZGUI</td>\n",
       "      <td>4575</td>\n",
       "      <td>6100</td>\n",
       "      <td>#404026</td>\n",
       "      <td>5225</td>\n",
       "      <td>118</td>\n",
       "      <td>DJI</td>\n",
       "      <td>FC3582</td>\n",
       "      <td>Unknown</td>\n",
       "      <td>1.7</td>\n",
       "      <td>6.7</td>\n",
       "      <td>100</td>\n",
       "      <td>Unknown</td>\n",
       "      <td>Indonesia</td>\n",
       "    </tr>\n",
       "    <tr>\n",
       "      <th>3</th>\n",
       "      <td>Y1G_0YYYA3c</td>\n",
       "      <td>2812</td>\n",
       "      <td>4455</td>\n",
       "      <td>#262626</td>\n",
       "      <td>4423</td>\n",
       "      <td>64</td>\n",
       "      <td>FUJIFILM</td>\n",
       "      <td>X-T1</td>\n",
       "      <td>Unknown</td>\n",
       "      <td>1</td>\n",
       "      <td>50</td>\n",
       "      <td>200</td>\n",
       "      <td>Unknown</td>\n",
       "      <td>Unknown</td>\n",
       "    </tr>\n",
       "    <tr>\n",
       "      <th>4</th>\n",
       "      <td>GAu0pSfgqNc</td>\n",
       "      <td>5104</td>\n",
       "      <td>2871</td>\n",
       "      <td>#5973a6</td>\n",
       "      <td>5222</td>\n",
       "      <td>80</td>\n",
       "      <td>Canon</td>\n",
       "      <td>EOS R6</td>\n",
       "      <td>Unknown</td>\n",
       "      <td>20</td>\n",
       "      <td>400</td>\n",
       "      <td>200</td>\n",
       "      <td>Unknown</td>\n",
       "      <td>Spain</td>\n",
       "    </tr>\n",
       "  </tbody>\n",
       "</table>\n",
       "</div>"
      ],
      "text/plain": [
       "            id  width  height    color  downloads  likes      make     model  \\\n",
       "0  uI3CBm8udb4   2345    2931  #264040       4287    118    HUAWEI   VOG-L29   \n",
       "1  Mbd2gOxxK5I   3351    4189  #EFEFEF       2511     28      SONY  ILCE-7M3   \n",
       "2  im3Zz7gZGUI   4575    6100  #404026       5225    118       DJI    FC3582   \n",
       "3  Y1G_0YYYA3c   2812    4455  #262626       4423     64  FUJIFILM      X-T1   \n",
       "4  GAu0pSfgqNc   5104    2871  #5973a6       5222     80     Canon    EOS R6   \n",
       "\n",
       "  exposure_time aperture focal_length  iso     city    country  \n",
       "0        1/1000      3.4         14.5  100  Unknown   Portugal  \n",
       "1       Unknown      1.4           85  100  Unknown    Unknown  \n",
       "2       Unknown      1.7          6.7  100  Unknown  Indonesia  \n",
       "3       Unknown        1           50  200  Unknown    Unknown  \n",
       "4       Unknown       20          400  200  Unknown      Spain  "
      ]
     },
     "execution_count": 3,
     "metadata": {},
     "output_type": "execute_result"
    }
   ],
   "source": [
    "df = pd.read_csv(\"/kaggle/input/1500-unsplash-images-metadata/1500 Unsplash Images Metadata.csv\")\n",
    "df.head()"
   ]
  },
  {
   "cell_type": "code",
   "execution_count": 4,
   "id": "011cb98f",
   "metadata": {
    "execution": {
     "iopub.execute_input": "2024-02-24T15:07:11.876954Z",
     "iopub.status.busy": "2024-02-24T15:07:11.876499Z",
     "iopub.status.idle": "2024-02-24T15:07:11.885719Z",
     "shell.execute_reply": "2024-02-24T15:07:11.884246Z"
    },
    "papermill": {
     "duration": 0.024838,
     "end_time": "2024-02-24T15:07:11.889181",
     "exception": false,
     "start_time": "2024-02-24T15:07:11.864343",
     "status": "completed"
    },
    "tags": []
   },
   "outputs": [
    {
     "data": {
      "text/plain": [
       "(1539, 14)"
      ]
     },
     "execution_count": 4,
     "metadata": {},
     "output_type": "execute_result"
    }
   ],
   "source": [
    "df.shape"
   ]
  },
  {
   "cell_type": "code",
   "execution_count": 5,
   "id": "6f166e33",
   "metadata": {
    "execution": {
     "iopub.execute_input": "2024-02-24T15:07:11.916765Z",
     "iopub.status.busy": "2024-02-24T15:07:11.916280Z",
     "iopub.status.idle": "2024-02-24T15:07:11.949171Z",
     "shell.execute_reply": "2024-02-24T15:07:11.948168Z"
    },
    "papermill": {
     "duration": 0.050801,
     "end_time": "2024-02-24T15:07:11.952176",
     "exception": false,
     "start_time": "2024-02-24T15:07:11.901375",
     "status": "completed"
    },
    "tags": []
   },
   "outputs": [
    {
     "data": {
      "text/html": [
       "<div>\n",
       "<style scoped>\n",
       "    .dataframe tbody tr th:only-of-type {\n",
       "        vertical-align: middle;\n",
       "    }\n",
       "\n",
       "    .dataframe tbody tr th {\n",
       "        vertical-align: top;\n",
       "    }\n",
       "\n",
       "    .dataframe thead th {\n",
       "        text-align: right;\n",
       "    }\n",
       "</style>\n",
       "<table border=\"1\" class=\"dataframe\">\n",
       "  <thead>\n",
       "    <tr style=\"text-align: right;\">\n",
       "      <th></th>\n",
       "      <th>width</th>\n",
       "      <th>height</th>\n",
       "      <th>downloads</th>\n",
       "      <th>likes</th>\n",
       "    </tr>\n",
       "  </thead>\n",
       "  <tbody>\n",
       "    <tr>\n",
       "      <th>count</th>\n",
       "      <td>1539.000000</td>\n",
       "      <td>1539.000000</td>\n",
       "      <td>1539.000000</td>\n",
       "      <td>1539.000000</td>\n",
       "    </tr>\n",
       "    <tr>\n",
       "      <th>mean</th>\n",
       "      <td>4675.552956</td>\n",
       "      <td>4984.333333</td>\n",
       "      <td>4932.345679</td>\n",
       "      <td>62.160494</td>\n",
       "    </tr>\n",
       "    <tr>\n",
       "      <th>std</th>\n",
       "      <td>1670.269691</td>\n",
       "      <td>1626.932274</td>\n",
       "      <td>12159.017930</td>\n",
       "      <td>101.706062</td>\n",
       "    </tr>\n",
       "    <tr>\n",
       "      <th>min</th>\n",
       "      <td>1828.000000</td>\n",
       "      <td>1415.000000</td>\n",
       "      <td>0.000000</td>\n",
       "      <td>2.000000</td>\n",
       "    </tr>\n",
       "    <tr>\n",
       "      <th>25%</th>\n",
       "      <td>3652.500000</td>\n",
       "      <td>3873.000000</td>\n",
       "      <td>2123.500000</td>\n",
       "      <td>28.000000</td>\n",
       "    </tr>\n",
       "    <tr>\n",
       "      <th>50%</th>\n",
       "      <td>4160.000000</td>\n",
       "      <td>5015.000000</td>\n",
       "      <td>3140.000000</td>\n",
       "      <td>47.000000</td>\n",
       "    </tr>\n",
       "    <tr>\n",
       "      <th>75%</th>\n",
       "      <td>5504.000000</td>\n",
       "      <td>6000.000000</td>\n",
       "      <td>4728.500000</td>\n",
       "      <td>72.000000</td>\n",
       "    </tr>\n",
       "    <tr>\n",
       "      <th>max</th>\n",
       "      <td>16384.000000</td>\n",
       "      <td>14999.000000</td>\n",
       "      <td>326016.000000</td>\n",
       "      <td>2847.000000</td>\n",
       "    </tr>\n",
       "  </tbody>\n",
       "</table>\n",
       "</div>"
      ],
      "text/plain": [
       "              width        height      downloads        likes\n",
       "count   1539.000000   1539.000000    1539.000000  1539.000000\n",
       "mean    4675.552956   4984.333333    4932.345679    62.160494\n",
       "std     1670.269691   1626.932274   12159.017930   101.706062\n",
       "min     1828.000000   1415.000000       0.000000     2.000000\n",
       "25%     3652.500000   3873.000000    2123.500000    28.000000\n",
       "50%     4160.000000   5015.000000    3140.000000    47.000000\n",
       "75%     5504.000000   6000.000000    4728.500000    72.000000\n",
       "max    16384.000000  14999.000000  326016.000000  2847.000000"
      ]
     },
     "execution_count": 5,
     "metadata": {},
     "output_type": "execute_result"
    }
   ],
   "source": [
    "df.describe()"
   ]
  },
  {
   "cell_type": "code",
   "execution_count": 6,
   "id": "3f5683c6",
   "metadata": {
    "execution": {
     "iopub.execute_input": "2024-02-24T15:07:11.977227Z",
     "iopub.status.busy": "2024-02-24T15:07:11.976471Z",
     "iopub.status.idle": "2024-02-24T15:07:12.011926Z",
     "shell.execute_reply": "2024-02-24T15:07:12.009738Z"
    },
    "papermill": {
     "duration": 0.050953,
     "end_time": "2024-02-24T15:07:12.014963",
     "exception": false,
     "start_time": "2024-02-24T15:07:11.964010",
     "status": "completed"
    },
    "tags": []
   },
   "outputs": [
    {
     "name": "stdout",
     "output_type": "stream",
     "text": [
      "<class 'pandas.core.frame.DataFrame'>\n",
      "RangeIndex: 1539 entries, 0 to 1538\n",
      "Data columns (total 14 columns):\n",
      " #   Column         Non-Null Count  Dtype \n",
      "---  ------         --------------  ----- \n",
      " 0   id             1539 non-null   object\n",
      " 1   width          1539 non-null   int64 \n",
      " 2   height         1539 non-null   int64 \n",
      " 3   color          1539 non-null   object\n",
      " 4   downloads      1539 non-null   int64 \n",
      " 5   likes          1539 non-null   int64 \n",
      " 6   make           1539 non-null   object\n",
      " 7   model          1539 non-null   object\n",
      " 8   exposure_time  1539 non-null   object\n",
      " 9   aperture       1539 non-null   object\n",
      " 10  focal_length   1539 non-null   object\n",
      " 11  iso            1539 non-null   object\n",
      " 12  city           1539 non-null   object\n",
      " 13  country        1539 non-null   object\n",
      "dtypes: int64(4), object(10)\n",
      "memory usage: 168.5+ KB\n"
     ]
    }
   ],
   "source": [
    "df.info()"
   ]
  },
  {
   "cell_type": "code",
   "execution_count": 7,
   "id": "d4099d8b",
   "metadata": {
    "execution": {
     "iopub.execute_input": "2024-02-24T15:07:12.043234Z",
     "iopub.status.busy": "2024-02-24T15:07:12.042581Z",
     "iopub.status.idle": "2024-02-24T15:07:12.056230Z",
     "shell.execute_reply": "2024-02-24T15:07:12.054841Z"
    },
    "papermill": {
     "duration": 0.030961,
     "end_time": "2024-02-24T15:07:12.059527",
     "exception": false,
     "start_time": "2024-02-24T15:07:12.028566",
     "status": "completed"
    },
    "tags": []
   },
   "outputs": [
    {
     "data": {
      "text/plain": [
       "196     5005\n",
       "1531    5091\n",
       "174     5184\n",
       "904     4000\n",
       "1363    3276\n",
       "        ... \n",
       "644     4000\n",
       "1322    5567\n",
       "490     4565\n",
       "337     5600\n",
       "1195    5827\n",
       "Name: width, Length: 154, dtype: int64"
      ]
     },
     "execution_count": 7,
     "metadata": {},
     "output_type": "execute_result"
    }
   ],
   "source": [
    "# Random Sampling\n",
    "random_sample = df.sample(frac=0.1)['width']\n",
    "random_sample"
   ]
  },
  {
   "cell_type": "code",
   "execution_count": 8,
   "id": "12c4e8d0",
   "metadata": {
    "execution": {
     "iopub.execute_input": "2024-02-24T15:07:12.086863Z",
     "iopub.status.busy": "2024-02-24T15:07:12.086418Z",
     "iopub.status.idle": "2024-02-24T15:07:12.097707Z",
     "shell.execute_reply": "2024-02-24T15:07:12.096516Z"
    },
    "papermill": {
     "duration": 0.027595,
     "end_time": "2024-02-24T15:07:12.100237",
     "exception": false,
     "start_time": "2024-02-24T15:07:12.072642",
     "status": "completed"
    },
    "tags": []
   },
   "outputs": [
    {
     "data": {
      "text/plain": [
       "2       4575\n",
       "11      4884\n",
       "20      2832\n",
       "29      7621\n",
       "38      6240\n",
       "        ... \n",
       "1496    3866\n",
       "1505    4094\n",
       "1514    3181\n",
       "1523    2201\n",
       "1532    2500\n",
       "Name: width, Length: 171, dtype: int64"
      ]
     },
     "execution_count": 8,
     "metadata": {},
     "output_type": "execute_result"
    }
   ],
   "source": [
    "# Systematic sampling\n",
    "\n",
    "# Calculate the interval as an integer\n",
    "interval = int(len(df) // (len(df) * 0.1))\n",
    "\n",
    "# Randomly choose a starting point within the interval\n",
    "start_point = np.random.randint(0, interval)\n",
    "\n",
    "# Perform systematic sampling\n",
    "systematic_sample = df.iloc[start_point::interval]['width']\n",
    "\n",
    "systematic_sample"
   ]
  },
  {
   "cell_type": "code",
   "execution_count": 9,
   "id": "61bb3abe",
   "metadata": {
    "execution": {
     "iopub.execute_input": "2024-02-24T15:07:12.128189Z",
     "iopub.status.busy": "2024-02-24T15:07:12.127052Z",
     "iopub.status.idle": "2024-02-24T15:07:12.167800Z",
     "shell.execute_reply": "2024-02-24T15:07:12.165620Z"
    },
    "papermill": {
     "duration": 0.058453,
     "end_time": "2024-02-24T15:07:12.170895",
     "exception": false,
     "start_time": "2024-02-24T15:07:12.112442",
     "status": "completed"
    },
    "tags": []
   },
   "outputs": [
    {
     "name": "stdout",
     "output_type": "stream",
     "text": [
      "                make  count\n",
      "0            Unknown    434\n",
      "1               SONY    356\n",
      "2              Canon    290\n",
      "3           FUJIFILM    145\n",
      "4  NIKON CORPORATION    129\n",
      "5                DJI     35\n",
      "6          Panasonic     24\n",
      "***************************\n",
      "                make  count\n",
      "0            Unknown     43\n",
      "1               SONY     36\n",
      "2              Canon     29\n",
      "3           FUJIFILM     14\n",
      "4  NIKON CORPORATION     13\n",
      "5                DJI      4\n",
      "6              Apple      2\n",
      "7         Hasselblad      2\n"
     ]
    }
   ],
   "source": [
    "# First DataFrame: 'make' and total count in the whole population\n",
    "make_counts_df = df['make'].value_counts().reset_index()\n",
    "make_counts_df.columns = ['make', 'count']\n",
    "\n",
    "# Second DataFrame: 'make' and count in the Stratified Sampling\n",
    "# Note: 'stratified_sample' only contains 'width' values. We need to work with the sampled DataFrame, not the 'width' Series.\n",
    "stratified_sample_df = df.groupby('make', group_keys=False).apply(lambda x: x.sample(frac=0.1))\n",
    "make_counts_sampled_df = stratified_sample_df['make'].value_counts().reset_index()\n",
    "make_counts_sampled_df.columns = ['make', 'count']\n",
    "\n",
    "print(make_counts_df.head(7))\n",
    "print(\"***************************\")\n",
    "print(make_counts_sampled_df.head(8))"
   ]
  },
  {
   "cell_type": "markdown",
   "id": "747c5499",
   "metadata": {
    "papermill": {
     "duration": 0.012915,
     "end_time": "2024-02-24T15:07:12.197028",
     "exception": false,
     "start_time": "2024-02-24T15:07:12.184113",
     "status": "completed"
    },
    "tags": []
   },
   "source": [
    "#### 1-sample Z test for mean\n",
    "1-sample Z test for mean: This test is used to determine whether the sample mean of the data is significantly different from a known or hypothesized population mean. It's typically used when the population standard deviation is known and the sample size is large (n > 30)."
   ]
  },
  {
   "cell_type": "code",
   "execution_count": 10,
   "id": "dcbbcc1f",
   "metadata": {
    "execution": {
     "iopub.execute_input": "2024-02-24T15:07:12.225750Z",
     "iopub.status.busy": "2024-02-24T15:07:12.225243Z",
     "iopub.status.idle": "2024-02-24T15:07:12.235912Z",
     "shell.execute_reply": "2024-02-24T15:07:12.234508Z"
    },
    "papermill": {
     "duration": 0.028681,
     "end_time": "2024-02-24T15:07:12.239496",
     "exception": false,
     "start_time": "2024-02-24T15:07:12.210815",
     "status": "completed"
    },
    "tags": []
   },
   "outputs": [
    {
     "name": "stdout",
     "output_type": "stream",
     "text": [
      "Z score = 0.6585069455122395, P-value = 0.5102124355063016\n"
     ]
    }
   ],
   "source": [
    "from scipy import stats\n",
    "\n",
    "# Random Sampling\n",
    "random_sample = df.sample(frac=0.1)['width']\n",
    "\n",
    "# Hypothetical population mean and standard deviation\n",
    "hypothetical_mean = 4675  # Hypothetical population mean\n",
    "population_std = 1670  # Actual population standard deviation\n",
    "\n",
    "# Calculating sample statistics for the random sample\n",
    "random_sample_mean = random_sample.mean()\n",
    "n = len(random_sample)  # Corrected to use the size of the random sample\n",
    "\n",
    "# 1-sample Z test calculation\n",
    "z_score = (random_sample_mean - hypothetical_mean) / (population_std / np.sqrt(n))\n",
    "p_value = stats.norm.sf(abs(z_score)) * 2  # Two-tailed test\n",
    "\n",
    "print(f\"Z score = {z_score}, P-value = {p_value}\")"
   ]
  },
  {
   "cell_type": "markdown",
   "id": "807aa833",
   "metadata": {
    "papermill": {
     "duration": 0.012183,
     "end_time": "2024-02-24T15:07:12.264210",
     "exception": false,
     "start_time": "2024-02-24T15:07:12.252027",
     "status": "completed"
    },
    "tags": []
   },
   "source": [
    "##### Result\n",
    "In 1-sample Z test, the null hypothesis (H0) states that the mean width of the dataset's sample equals the hypothetical population mean (4675), indicating no significant difference. The alternative hypothesis (H1) posits that the sample mean differs significantly from the hypothetical mean. The choice between these hypotheses depends on the p-value compared to a pre-set significance level (typically 0.05). A p-value less than or equal to the significance level suggests rejecting H0 in favor of H1, indicating a significant difference. Conversely, a p-value greater than the significance level suggests insufficient evidence to reject H0, meaning any observed difference could be due to random chance. With a p-value of approximately 0.783, significantly above 0.05, you fail to reject the null hypothesis. This result indicates insufficient evidence to conclude a significant difference between the sample mean width and the hypothetical population mean, suggesting the observed difference is likely due to random variation."
   ]
  },
  {
   "cell_type": "markdown",
   "id": "438a0893",
   "metadata": {
    "papermill": {
     "duration": 0.01186,
     "end_time": "2024-02-24T15:07:12.288300",
     "exception": false,
     "start_time": "2024-02-24T15:07:12.276440",
     "status": "completed"
    },
    "tags": []
   },
   "source": [
    "#### 1-sample T test for mean\n",
    "1-sample T test for mean: This test is similar to the Z test but is used when the population standard deviation is unknown and the sample size is small (n < 30). It uses the sample standard deviation as an estimate of the population standard deviation."
   ]
  },
  {
   "cell_type": "code",
   "execution_count": 11,
   "id": "a28e61fe",
   "metadata": {
    "execution": {
     "iopub.execute_input": "2024-02-24T15:07:12.313509Z",
     "iopub.status.busy": "2024-02-24T15:07:12.313048Z",
     "iopub.status.idle": "2024-02-24T15:07:12.327028Z",
     "shell.execute_reply": "2024-02-24T15:07:12.325309Z"
    },
    "papermill": {
     "duration": 0.029844,
     "end_time": "2024-02-24T15:07:12.329967",
     "exception": false,
     "start_time": "2024-02-24T15:07:12.300123",
     "status": "completed"
    },
    "tags": []
   },
   "outputs": [
    {
     "name": "stdout",
     "output_type": "stream",
     "text": [
      "T score = 1.1229561094357143, P-value = 0.2721250503163452\n"
     ]
    }
   ],
   "source": [
    "import pandas as pd\n",
    "from scipy import stats\n",
    "\n",
    "# Random Sampling\n",
    "random_sample = df.sample(frac=0.017)['width']\n",
    "\n",
    "# Hypothetical population mean\n",
    "hypothetical_mean = 4675  # Hypothetical population mean\n",
    "\n",
    "# Performing 1-sample T test\n",
    "t_score, p_value = stats.ttest_1samp(random_sample, hypothetical_mean)\n",
    "\n",
    "print(f\"T score = {t_score}, P-value = {p_value}\")"
   ]
  },
  {
   "cell_type": "markdown",
   "id": "311c561e",
   "metadata": {
    "papermill": {
     "duration": 0.011344,
     "end_time": "2024-02-24T15:07:12.353321",
     "exception": false,
     "start_time": "2024-02-24T15:07:12.341977",
     "status": "completed"
    },
    "tags": []
   },
   "source": [
    "##### Result\n",
    "In 1-sample T test, the null hypothesis (H0) posits that the mean width of the dataset's sample is equal to the hypothetical population mean of 4675, implying no significant difference. The alternative hypothesis (H1) asserts that the sample mean significantly differs from the hypothetical mean. The decision between H0 and H1 is based on the p-value in relation to a chosen significance level, typically 0.05. A p-value ≤ 0.05 suggests rejecting H0 in favor of H1, indicating a statistically significant difference. Conversely, a p-value > 0.05 indicates insufficient evidence to reject H0, suggesting that any observed difference might be due to chance. With a p-value of approximately 0.367, you fail to reject the null hypothesis. This outcome suggests there's insufficient evidence to conclude a significant difference between the sample mean width and the hypothetical population mean, pointing towards the observed difference being likely due to random variation."
   ]
  },
  {
   "cell_type": "markdown",
   "id": "d5a14850",
   "metadata": {
    "papermill": {
     "duration": 0.011498,
     "end_time": "2024-02-24T15:07:12.376537",
     "exception": false,
     "start_time": "2024-02-24T15:07:12.365039",
     "status": "completed"
    },
    "tags": []
   },
   "source": [
    "####  2 sample independent test for mean\n",
    "Used in case of Controlled and Experimental group\n",
    "This test is appropriate when you have two separate groups, and you want to determine if there is a statistically\n",
    "significant difference between the means of these groups.\n",
    "The data in each group should be approximately normally distributed.\n",
    "The variances in the two groups should be roughly equal.\n",
    "*When you want to compare the means of two independent groups, you can use a two-sample independent t-test."
   ]
  },
  {
   "cell_type": "code",
   "execution_count": 12,
   "id": "2da128a7",
   "metadata": {
    "execution": {
     "iopub.execute_input": "2024-02-24T15:07:12.402370Z",
     "iopub.status.busy": "2024-02-24T15:07:12.401237Z",
     "iopub.status.idle": "2024-02-24T15:07:12.414566Z",
     "shell.execute_reply": "2024-02-24T15:07:12.412941Z"
    },
    "papermill": {
     "duration": 0.02885,
     "end_time": "2024-02-24T15:07:12.416896",
     "exception": false,
     "start_time": "2024-02-24T15:07:12.388046",
     "status": "completed"
    },
    "tags": []
   },
   "outputs": [
    {
     "name": "stdout",
     "output_type": "stream",
     "text": [
      "T score = 1.8526886375769045, P-value = 0.06919945612263438\n"
     ]
    }
   ],
   "source": [
    "from scipy import stats\n",
    "\n",
    "# Creating 2 random samples from the 'width' column\n",
    "sample1 = df['width'].sample(n=29)  \n",
    "sample2 = df['width'].sample(n=29)  \n",
    "\n",
    "# Performing 2-sample independent t-test\n",
    "t_score, p_value = stats.ttest_ind(sample1, sample2)\n",
    "\n",
    "print(f\"T score = {t_score}, P-value = {p_value}\")\n"
   ]
  },
  {
   "cell_type": "markdown",
   "id": "b40a5552",
   "metadata": {
    "papermill": {
     "duration": 0.011717,
     "end_time": "2024-02-24T15:07:12.441208",
     "exception": false,
     "start_time": "2024-02-24T15:07:12.429491",
     "status": "completed"
    },
    "tags": []
   },
   "source": [
    "##### Result\n",
    "Null Hypothesis (H0): The means of the two samples are equal.\n",
    "Alternative Hypothesis (H1): The means of the two samples are not equal.\n",
    "\n",
    "The 2-sample independent t-test yielded a T score of 1.8518 and a p-value of 0.0693. Since the p-value is greater than the typical significance level of 0.05, we fail to reject the Null Hypothesis (H0) that the means of the two samples are equal. This result suggests there is not enough statistical evidence to conclude a significant difference between the means of the two samples from the \"width\" column."
   ]
  },
  {
   "cell_type": "markdown",
   "id": "76c629e4",
   "metadata": {
    "papermill": {
     "duration": 0.011683,
     "end_time": "2024-02-24T15:07:12.464975",
     "exception": false,
     "start_time": "2024-02-24T15:07:12.453292",
     "status": "completed"
    },
    "tags": []
   },
   "source": [
    "#### Matched/Paired sample test\n",
    "The paired-sample t-test is commonly used in situations where you have two measurements taken on the same subjects or \n",
    "units, such as before-and-after measurements, repeated measurements on the same individuals, or matched pairs in a\n",
    "study."
   ]
  },
  {
   "cell_type": "code",
   "execution_count": 13,
   "id": "5855aeff",
   "metadata": {
    "execution": {
     "iopub.execute_input": "2024-02-24T15:07:12.491004Z",
     "iopub.status.busy": "2024-02-24T15:07:12.490581Z",
     "iopub.status.idle": "2024-02-24T15:07:12.501504Z",
     "shell.execute_reply": "2024-02-24T15:07:12.499986Z"
    },
    "papermill": {
     "duration": 0.027002,
     "end_time": "2024-02-24T15:07:12.503969",
     "exception": false,
     "start_time": "2024-02-24T15:07:12.476967",
     "status": "completed"
    },
    "tags": []
   },
   "outputs": [
    {
     "name": "stdout",
     "output_type": "stream",
     "text": [
      "T score = 1.0190677346227324, P-value = 0.31689577755924936\n"
     ]
    }
   ],
   "source": [
    "from scipy import stats\n",
    "\n",
    "sample1 = df['width'].sample(n=29)  # Measurements under condition 1\n",
    "sample2 = df['width'].sample(n=29)  # Corresponding measurements under condition 2\n",
    "\n",
    "# Performing Paired sample t-test\n",
    "t_score, p_value = stats.ttest_rel(sample1, sample2)\n",
    "\n",
    "print(f\"T score = {t_score}, P-value = {p_value}\")"
   ]
  },
  {
   "cell_type": "markdown",
   "id": "7cb8d6c1",
   "metadata": {
    "papermill": {
     "duration": 0.012443,
     "end_time": "2024-02-24T15:07:12.528418",
     "exception": false,
     "start_time": "2024-02-24T15:07:12.515975",
     "status": "completed"
    },
    "tags": []
   },
   "source": [
    "#### Result\n",
    "For Paired sample t-test, the null hypothesis (H0) states that the mean difference between the paired samples is zero, suggesting no significant effect between the two conditions. The alternative hypothesis (H1) posits that the mean difference is not zero, indicating a significant effect. With a T score of 1.0267 and a p-value of 0.3134, the p-value exceeds the typical significance level of 0.05. Therefore, you fail to reject the null hypothesis, suggesting insufficient evidence to conclude a significant difference between the paired samples. This decision is based on the statistical analysis indicating that the observed differences could likely be due to random chance rather than a systematic effect of the conditions. The outcome implies that, based on the samples tested, there's no strong evidence to support a change or effect between the two conditions under investigation."
   ]
  },
  {
   "cell_type": "markdown",
   "id": "c38cc537",
   "metadata": {
    "papermill": {
     "duration": 0.012228,
     "end_time": "2024-02-24T15:07:12.552984",
     "exception": false,
     "start_time": "2024-02-24T15:07:12.540756",
     "status": "completed"
    },
    "tags": []
   },
   "source": [
    "#### Correlation\n",
    "Correlation measures the strength and direction of a linear relationship between two quantitative variables. It is quantified by the correlation coefficient, which ranges from -1 to 1. A coefficient close to 1 indicates a strong positive correlation, meaning as one variable increases, the other tends to increase as well. A coefficient close to -1 indicates a strong negative correlation, meaning as one variable increases, the other tends to decrease. A coefficient around 0 suggests no linear correlation between the variables. Pearson’s correlation coefficient is the most common measure for linear relationships."
   ]
  },
  {
   "cell_type": "code",
   "execution_count": 14,
   "id": "cdf5b04c",
   "metadata": {
    "execution": {
     "iopub.execute_input": "2024-02-24T15:07:12.579030Z",
     "iopub.status.busy": "2024-02-24T15:07:12.578569Z",
     "iopub.status.idle": "2024-02-24T15:07:12.589606Z",
     "shell.execute_reply": "2024-02-24T15:07:12.587838Z"
    },
    "papermill": {
     "duration": 0.02787,
     "end_time": "2024-02-24T15:07:12.592813",
     "exception": false,
     "start_time": "2024-02-24T15:07:12.564943",
     "status": "completed"
    },
    "tags": []
   },
   "outputs": [
    {
     "name": "stdout",
     "output_type": "stream",
     "text": [
      "The Pearson correlation coefficient between width and height is: 0.32153599620932816\n",
      "The p-value for the correlation is: 2.379317842550679e-38\n"
     ]
    }
   ],
   "source": [
    "from scipy.stats import pearsonr\n",
    "\n",
    "# Assuming 'df' is your DataFrame\n",
    "correlation, p_value = pearsonr(df['width'], df['height'])\n",
    "\n",
    "print(f\"The Pearson correlation coefficient between width and height is: {correlation}\")\n",
    "print(f\"The p-value for the correlation is: {p_value}\")"
   ]
  },
  {
   "cell_type": "markdown",
   "id": "fece6290",
   "metadata": {
    "papermill": {
     "duration": 0.01226,
     "end_time": "2024-02-24T15:07:12.617454",
     "exception": false,
     "start_time": "2024-02-24T15:07:12.605194",
     "status": "completed"
    },
    "tags": []
   },
   "source": [
    "##### Result:\n",
    "Null Hypothesis : There is no linear relationship between 'width' and 'height' (correlation coefficient = 0).\n",
    "\n",
    "Alternative Hypothesis : There is a linear relationship between 'width' and 'height' (correlation coefficient ≠ 0).\n",
    "\n",
    "Given the very low p-value, we reject the null hypothesis in favor of the alternative hypothesis. This means there is statistically significant evidence of a linear relationship between 'width' and 'height'. However, it's important to note that while the relationship is statistically significant, the moderate value of the correlation coefficient suggests that the strength of this relationship is not very strong."
   ]
  },
  {
   "cell_type": "markdown",
   "id": "1d62a2b9",
   "metadata": {
    "papermill": {
     "duration": 0.011791,
     "end_time": "2024-02-24T15:07:12.642018",
     "exception": false,
     "start_time": "2024-02-24T15:07:12.630227",
     "status": "completed"
    },
    "tags": []
   },
   "source": [
    "#### Chi-square test\n",
    "\n",
    "The Chi-square test is a statistical method used to determine the independence of two categorical variables. Here does 'make' depends on 'country'. By comparing observed frequencies in a contingency table with expected frequencies derived under the null hypothesis of independence, the test calculates a Chi-square statistic. This statistic measures the discrepancy between observed and expected frequencies. A p-value is then derived from the statistic, indicating the probability of observing the data, or more extreme, if the null hypothesis were true. A small p-value suggests rejecting the null hypothesis, indicating a significant association between the variables."
   ]
  },
  {
   "cell_type": "code",
   "execution_count": 15,
   "id": "71e55948",
   "metadata": {
    "execution": {
     "iopub.execute_input": "2024-02-24T15:07:12.668392Z",
     "iopub.status.busy": "2024-02-24T15:07:12.667913Z",
     "iopub.status.idle": "2024-02-24T15:07:12.700647Z",
     "shell.execute_reply": "2024-02-24T15:07:12.698781Z"
    },
    "papermill": {
     "duration": 0.049254,
     "end_time": "2024-02-24T15:07:12.703430",
     "exception": false,
     "start_time": "2024-02-24T15:07:12.654176",
     "status": "completed"
    },
    "tags": []
   },
   "outputs": [
    {
     "name": "stdout",
     "output_type": "stream",
     "text": [
      "Chi-square statistic = 4221.572743304037, P-value = 1.101378073467452e-37\n"
     ]
    }
   ],
   "source": [
    "from scipy.stats import chi2_contingency\n",
    "\n",
    "# Assuming df is your DataFrame and it contains 'make' and 'country' columns\n",
    "\n",
    "# Creating a contingency table\n",
    "contingency_table = pd.crosstab(df['make'], df['country'])\n",
    "\n",
    "# Performing the Chi-square test\n",
    "chi2, p_value, dof, expected = chi2_contingency(contingency_table)\n",
    "\n",
    "print(f\"Chi-square statistic = {chi2}, P-value = {p_value}\")"
   ]
  },
  {
   "cell_type": "markdown",
   "id": "da1c5ccb",
   "metadata": {
    "papermill": {
     "duration": 0.012054,
     "end_time": "2024-02-24T15:07:12.728477",
     "exception": false,
     "start_time": "2024-02-24T15:07:12.716423",
     "status": "completed"
    },
    "tags": []
   },
   "source": [
    "##### Result\n",
    "\n",
    "Null Hypothesis: There is no association between the 'make' of a product and the 'country' of origin; any observed difference in the contingency table is due to chance.\n",
    "\n",
    "Alternative Hypothesis : There is an association between the 'make' of a product and the 'country' of origin; the observed difference in the contingency table is not due to chance.\n",
    "\n",
    "Given the extremely small P-value, we reject the null hypothesis. This P-value indicates that the probability of observing the data or something more extreme if the null hypothesis were true is virtually zero. Therefore, we conclude that there is a statistically significant association between the 'make' of a product and the 'country' of origin. This means that the 'make' and 'country' variables are not independent, and the differences observed in the contingency table are not due to random chance."
   ]
  },
  {
   "cell_type": "markdown",
   "id": "174cecba",
   "metadata": {
    "papermill": {
     "duration": 0.011768,
     "end_time": "2024-02-24T15:07:12.752446",
     "exception": false,
     "start_time": "2024-02-24T15:07:12.740678",
     "status": "completed"
    },
    "tags": []
   },
   "source": [
    "#### 1-Way ANOVA\n",
    "1-Way ANOVA (Analysis of Variance) is a statistical test used to determine if there are statistically significant differences between the means of three or more independent (unrelated) groups. It compares the variance within groups to the variance between groups to assess whether the group means differ beyond what could be expected by chance. The test calculates an F-statistic and a corresponding P-value, where a low P-value suggests that at least one group mean is significantly different from the others, indicating that the categorical variable has an effect on the continuous variable being studied."
   ]
  },
  {
   "cell_type": "code",
   "execution_count": 16,
   "id": "bb3d885e",
   "metadata": {
    "execution": {
     "iopub.execute_input": "2024-02-24T15:07:12.780006Z",
     "iopub.status.busy": "2024-02-24T15:07:12.779435Z",
     "iopub.status.idle": "2024-02-24T15:07:12.864834Z",
     "shell.execute_reply": "2024-02-24T15:07:12.863316Z"
    },
    "papermill": {
     "duration": 0.104362,
     "end_time": "2024-02-24T15:07:12.868952",
     "exception": false,
     "start_time": "2024-02-24T15:07:12.764590",
     "status": "completed"
    },
    "tags": []
   },
   "outputs": [
    {
     "name": "stdout",
     "output_type": "stream",
     "text": [
      "                sum_sq      df         F   PR(>F)\n",
      "C(make)   3.256612e+09    32.0  0.683837  0.90896\n",
      "Residual  2.241239e+11  1506.0       NaN      NaN\n"
     ]
    }
   ],
   "source": [
    "import statsmodels.api as sm\n",
    "from statsmodels.formula.api import ols\n",
    "\n",
    "# Perform 1-Way ANOVA to see if 'downloads' differs by 'make'\n",
    "model_1way = ols('downloads ~ C(make)', data=df).fit()\n",
    "anova_1way = sm.stats.anova_lm(model_1way, typ=2)\n",
    "\n",
    "print(anova_1way)"
   ]
  },
  {
   "cell_type": "markdown",
   "id": "f907cf7c",
   "metadata": {
    "papermill": {
     "duration": 0.029948,
     "end_time": "2024-02-24T15:07:12.924004",
     "exception": false,
     "start_time": "2024-02-24T15:07:12.894056",
     "status": "completed"
    },
    "tags": []
   },
   "source": [
    "##### Result\n",
    "Null Hypothesis : There is no significant difference in the mean number of downloads across different makes. In other words, 'make' has no effect on 'downloads'.\n",
    "\n",
    "Alternative Hypothesis : There is a significant difference in the mean number of downloads across different makes. This means 'make' affects 'downloads'.\n",
    "\n",
    "The ANOVA test yielded an F-statistic of 0.683837 and a P-value of 0.90896. The high P-value suggests that we fail to reject the null hypothesis. This indicates that there is no statistically significant difference in the mean number of downloads for different makes of the product in your dataset. In other words, the variation in downloads cannot be attributed to the 'make' of the product, based on the data provided. This result underscores the importance of looking beyond just one factor when analyzing factors that influence downloads, as 'make' alone does not appear to be a determining factor."
   ]
  },
  {
   "cell_type": "markdown",
   "id": "669f22c3",
   "metadata": {
    "papermill": {
     "duration": 0.020506,
     "end_time": "2024-02-24T15:07:12.973549",
     "exception": false,
     "start_time": "2024-02-24T15:07:12.953043",
     "status": "completed"
    },
    "tags": []
   },
   "source": [
    "#### 2-Way ANOVA\n",
    "2-Way ANOVA (Analysis of Variance) is a statistical test used to examine the effects of two categorical independent variables on a continuous dependent variable, and to determine if there is an interaction between the two independent variables. It assesses whether the mean differences among and across the groups for these variables are statistically significant. By comparing the variance within groups to the variance between groups, 2-Way ANOVA can identify not only the individual effects of each independent variable but also whether the variables interact in a way that affects the dependent variable's outcomes."
   ]
  },
  {
   "cell_type": "code",
   "execution_count": 17,
   "id": "173c1db1",
   "metadata": {
    "execution": {
     "iopub.execute_input": "2024-02-24T15:07:13.004709Z",
     "iopub.status.busy": "2024-02-24T15:07:13.004284Z",
     "iopub.status.idle": "2024-02-24T15:12:25.814273Z",
     "shell.execute_reply": "2024-02-24T15:12:25.813088Z"
    },
    "papermill": {
     "duration": 312.860167,
     "end_time": "2024-02-24T15:12:25.847618",
     "exception": false,
     "start_time": "2024-02-24T15:07:12.987451",
     "status": "completed"
    },
    "tags": []
   },
   "outputs": [
    {
     "name": "stderr",
     "output_type": "stream",
     "text": [
      "/opt/conda/lib/python3.10/site-packages/statsmodels/base/model.py:1896: ValueWarning: covariance of constraints does not have full rank. The number of constraints is 32, but rank is 1\n",
      "  warnings.warn('covariance of constraints does not have full '\n",
      "/opt/conda/lib/python3.10/site-packages/statsmodels/base/model.py:1896: ValueWarning: covariance of constraints does not have full rank. The number of constraints is 186, but rank is 5\n",
      "  warnings.warn('covariance of constraints does not have full '\n"
     ]
    },
    {
     "name": "stdout",
     "output_type": "stream",
     "text": [
      "                        sum_sq      df             F        PR(>F)\n",
      "C(make)           9.976978e+03    32.0  2.948471e-06  9.986302e-01\n",
      "C(model)         -2.422413e+02   186.0 -1.231638e-08  1.000000e+00\n",
      "C(make):C(model)  2.719688e+12  5952.0  4.321196e+00  6.617507e-56\n",
      "Residual          1.429647e+11  1352.0           NaN           NaN\n"
     ]
    },
    {
     "name": "stderr",
     "output_type": "stream",
     "text": [
      "/opt/conda/lib/python3.10/site-packages/statsmodels/base/model.py:1896: ValueWarning: covariance of constraints does not have full rank. The number of constraints is 5952, but rank is 185\n",
      "  warnings.warn('covariance of constraints does not have full '\n"
     ]
    }
   ],
   "source": [
    "# Perform 2-Way ANOVA to see if 'downloads' is affected by 'make' and 'model', and their interaction\n",
    "model_2way = ols('downloads ~ C(make) + C(model) + C(make):C(model)', data=df).fit()\n",
    "anova_2way = sm.stats.anova_lm(model_2way, typ=2)\n",
    "\n",
    "print(anova_2way)"
   ]
  },
  {
   "cell_type": "markdown",
   "id": "6cf5045a",
   "metadata": {
    "papermill": {
     "duration": 0.026093,
     "end_time": "2024-02-24T15:12:25.900099",
     "exception": false,
     "start_time": "2024-02-24T15:12:25.874006",
     "status": "completed"
    },
    "tags": []
   },
   "source": [
    "##### Result\n",
    "Null Hypotheses\n",
    "\n",
    "H01: There is no significant effect of 'make' on the number of downloads.\n",
    "\n",
    "H02: There is no significant effect of 'model' on the number of downloads.\n",
    "\n",
    "H03: There is no significant interaction effect between 'make' and 'model' on the number of downloads.\n",
    "\n",
    "Alternative Hypotheses:\n",
    "\n",
    "At least one of the null hypotheses is false, indicating that there is a significant effect of 'make', 'model', or their interaction on the number of downloads.\n",
    "\n",
    "The ANOVA results show significant interaction effects between 'make' and 'model' on downloads, with an F-statistic of approximately 4.32 and a P-value of 6.61*10^-56. This suggests we reject H03, indicating a significant interaction effect between 'make' and 'model' on the number of downloads. However, the individual effects of 'make' and 'model' do not show statistical significance based on their P-values, suggesting that the impact on downloads is primarily through their interaction rather than their individual effects. This highlights the importance of considering how different factors can work together to influence outcomes."
   ]
  }
 ],
 "metadata": {
  "kaggle": {
   "accelerator": "none",
   "dataSources": [
    {
     "datasetId": 4487958,
     "sourceId": 7690750,
     "sourceType": "datasetVersion"
    }
   ],
   "dockerImageVersionId": 30646,
   "isGpuEnabled": false,
   "isInternetEnabled": true,
   "language": "python",
   "sourceType": "notebook"
  },
  "kernelspec": {
   "display_name": "Python 3",
   "language": "python",
   "name": "python3"
  },
  "language_info": {
   "codemirror_mode": {
    "name": "ipython",
    "version": 3
   },
   "file_extension": ".py",
   "mimetype": "text/x-python",
   "name": "python",
   "nbconvert_exporter": "python",
   "pygments_lexer": "ipython3",
   "version": "3.10.13"
  },
  "papermill": {
   "default_parameters": {},
   "duration": 323.09002,
   "end_time": "2024-02-24T15:12:26.738400",
   "environment_variables": {},
   "exception": null,
   "input_path": "__notebook__.ipynb",
   "output_path": "__notebook__.ipynb",
   "parameters": {},
   "start_time": "2024-02-24T15:07:03.648380",
   "version": "2.5.0"
  }
 },
 "nbformat": 4,
 "nbformat_minor": 5
}
