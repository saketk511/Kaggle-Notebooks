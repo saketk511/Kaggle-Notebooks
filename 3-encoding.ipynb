{
 "cells": [
  {
   "cell_type": "code",
   "execution_count": 1,
   "id": "b831f12f",
   "metadata": {
    "_cell_guid": "b1076dfc-b9ad-4769-8c92-a6c4dae69d19",
    "_uuid": "8f2839f25d086af736a60e9eeb907d3b93b6e0e5",
    "execution": {
     "iopub.execute_input": "2024-02-20T09:02:55.470271Z",
     "iopub.status.busy": "2024-02-20T09:02:55.469686Z",
     "iopub.status.idle": "2024-02-20T09:02:56.415432Z",
     "shell.execute_reply": "2024-02-20T09:02:56.414269Z"
    },
    "papermill": {
     "duration": 0.954004,
     "end_time": "2024-02-20T09:02:56.418213",
     "exception": false,
     "start_time": "2024-02-20T09:02:55.464209",
     "status": "completed"
    },
    "tags": []
   },
   "outputs": [],
   "source": [
    "# This Python 3 environment comes with many helpful analytics libraries installed\n",
    "# It is defined by the kaggle/python Docker image: https://github.com/kaggle/docker-python\n",
    "# For example, here's several helpful packages to load\n",
    "\n",
    "import numpy as np # linear algebra\n",
    "import pandas as pd # data processing, CSV file I/O (e.g. pd.read_csv)\n",
    "\n",
    "# Input data files are available in the read-only \"../input/\" directory\n",
    "# For example, running this (by clicking run or pressing Shift+Enter) will list all files under the input directory\n",
    "\n",
    "import os\n",
    "for dirname, _, filenames in os.walk('/kaggle/input'):\n",
    "    for filename in filenames:\n",
    "        print(os.path.join(dirname, filename))\n",
    "\n",
    "# You can write up to 20GB to the current directory (/kaggle/working/) that gets preserved as output when you create a version using \"Save & Run All\" \n",
    "# You can also write temporary files to /kaggle/temp/, but they won't be saved outside of the current session"
   ]
  },
  {
   "cell_type": "code",
   "execution_count": 2,
   "id": "17265bb6",
   "metadata": {
    "execution": {
     "iopub.execute_input": "2024-02-20T09:02:56.429009Z",
     "iopub.status.busy": "2024-02-20T09:02:56.428467Z",
     "iopub.status.idle": "2024-02-20T09:02:56.433793Z",
     "shell.execute_reply": "2024-02-20T09:02:56.432636Z"
    },
    "papermill": {
     "duration": 0.012249,
     "end_time": "2024-02-20T09:02:56.436153",
     "exception": false,
     "start_time": "2024-02-20T09:02:56.423904",
     "status": "completed"
    },
    "tags": []
   },
   "outputs": [],
   "source": [
    "import warnings\n",
    "warnings.filterwarnings('ignore')"
   ]
  },
  {
   "cell_type": "markdown",
   "id": "5104de91",
   "metadata": {
    "papermill": {
     "duration": 0.002931,
     "end_time": "2024-02-20T09:02:56.442532",
     "exception": false,
     "start_time": "2024-02-20T09:02:56.439601",
     "status": "completed"
    },
    "tags": []
   },
   "source": [
    " # Ordinal Encoding - Label Encoding\n",
    "Ordinal encoding converts categorical data into integer codes ranging from 0 to N-1, where N is the number of unique categories. This method assumes an order or hierarchy among the categories. It's suitable for ordinal data, where the categories have a natural ordered relationship (e.g., ratings like \"poor\", \"good\", \"excellent\")."
   ]
  },
  {
   "cell_type": "markdown",
   "id": "31fd10fe",
   "metadata": {
    "papermill": {
     "duration": 0.002701,
     "end_time": "2024-02-20T09:02:56.448246",
     "exception": false,
     "start_time": "2024-02-20T09:02:56.445545",
     "status": "completed"
    },
    "tags": []
   },
   "source": [
    "\n",
    "# One-Hot Encoding\n",
    "One-hot encoding converts each category value into a new column and assigns a 1 or 0 (True/False) value to the column. This method is suitable for nominal data, where no ordinal relationship exists between the categories. It eliminates the model's assumption about the ordering of categories but increases the data dimensionality."
   ]
  },
  {
   "cell_type": "markdown",
   "id": "1cf78699",
   "metadata": {
    "execution": {
     "iopub.execute_input": "2024-02-18T09:21:39.556514Z",
     "iopub.status.busy": "2024-02-18T09:21:39.556038Z",
     "iopub.status.idle": "2024-02-18T09:21:39.564880Z",
     "shell.execute_reply": "2024-02-18T09:21:39.562702Z",
     "shell.execute_reply.started": "2024-02-18T09:21:39.556477Z"
    },
    "papermill": {
     "duration": 0.002816,
     "end_time": "2024-02-20T09:02:56.454067",
     "exception": false,
     "start_time": "2024-02-20T09:02:56.451251",
     "status": "completed"
    },
    "tags": []
   },
   "source": [
    "# Dummy Variable\n",
    "\n",
    "The dummy variable trap is a scenario in which the independent variables (features) in a regression model are highly correlated.\n",
    "\n",
    "Methods to Avoid the Dummy Variable Trap\n",
    "\n",
    "Drop one level: For a categorical variable with \n",
    "N categories, use N−1 dummy variables. The dropped category acts as the \"reference\" or \"baseline\" category. This approach is automatically handled by setting drop_first=True in pd.get_dummies() in pandas or specifying similar options in other preprocessing tools.\n",
    "\n",
    "Use regularization: Techniques like Ridge (L2) and Lasso (L1) regression can help manage multicollinearity by penalizing the size of coefficients and, in the case of Lasso, potentially reducing some coefficients to zero."
   ]
  },
  {
   "cell_type": "code",
   "execution_count": 3,
   "id": "2294665c",
   "metadata": {
    "execution": {
     "iopub.execute_input": "2024-02-20T09:02:56.462472Z",
     "iopub.status.busy": "2024-02-20T09:02:56.461792Z",
     "iopub.status.idle": "2024-02-20T09:02:58.859660Z",
     "shell.execute_reply": "2024-02-20T09:02:58.858448Z"
    },
    "papermill": {
     "duration": 2.405081,
     "end_time": "2024-02-20T09:02:58.862422",
     "exception": false,
     "start_time": "2024-02-20T09:02:56.457341",
     "status": "completed"
    },
    "tags": []
   },
   "outputs": [
    {
     "name": "stdout",
     "output_type": "stream",
     "text": [
      "  embarked     sex  embarked_ordinal  sex_male  sex_female\n",
      "0        S    male               2.0       0.0         1.0\n",
      "1        C  female               0.0       1.0         0.0\n",
      "2        S  female               2.0       1.0         0.0\n",
      "3        S  female               2.0       1.0         0.0\n",
      "4        S    male               2.0       0.0         1.0\n",
      "5        Q    male               1.0       0.0         1.0\n",
      "6        S    male               2.0       0.0         1.0\n",
      "7        S    male               2.0       0.0         1.0\n",
      "8        S  female               2.0       1.0         0.0\n",
      "9        C  female               0.0       1.0         0.0\n"
     ]
    }
   ],
   "source": [
    "import seaborn as sns\n",
    "import pandas as pd\n",
    "from sklearn.preprocessing import OrdinalEncoder, OneHotEncoder\n",
    "\n",
    "# Load Titanic dataset\n",
    "titanic = sns.load_dataset('titanic')\n",
    "\n",
    "# Prepare data\n",
    "data = titanic[['embarked', 'sex']].dropna()\n",
    "\n",
    "# Ordinal Encoding for 'Embarked'\n",
    "ordinal_encoder = OrdinalEncoder()\n",
    "data['embarked_ordinal'] = ordinal_encoder.fit_transform(data[['embarked']])\n",
    "\n",
    "# One-Hot Encoding for 'Sex'\n",
    "onehot_encoder = OneHotEncoder(sparse=False)\n",
    "data_onehot = onehot_encoder.fit_transform(data[['sex']])\n",
    "data[['sex_male', 'sex_female']] = data_onehot\n",
    "\n",
    "print(data.head(10))"
   ]
  },
  {
   "cell_type": "markdown",
   "id": "34fa33e8",
   "metadata": {
    "papermill": {
     "duration": 0.002886,
     "end_time": "2024-02-20T09:02:58.868619",
     "exception": false,
     "start_time": "2024-02-20T09:02:58.865733",
     "status": "completed"
    },
    "tags": []
   },
   "source": [
    "#### Dropping 1 column"
   ]
  },
  {
   "cell_type": "code",
   "execution_count": 4,
   "id": "64f3807d",
   "metadata": {
    "execution": {
     "iopub.execute_input": "2024-02-20T09:02:58.877202Z",
     "iopub.status.busy": "2024-02-20T09:02:58.876176Z",
     "iopub.status.idle": "2024-02-20T09:02:58.899368Z",
     "shell.execute_reply": "2024-02-20T09:02:58.898007Z"
    },
    "papermill": {
     "duration": 0.030144,
     "end_time": "2024-02-20T09:02:58.901919",
     "exception": false,
     "start_time": "2024-02-20T09:02:58.871775",
     "status": "completed"
    },
    "tags": []
   },
   "outputs": [
    {
     "name": "stdout",
     "output_type": "stream",
     "text": [
      "      sex  sex_male\n",
      "0    male       1.0\n",
      "1  female       0.0\n",
      "2  female       0.0\n",
      "3  female       0.0\n",
      "4    male       1.0\n"
     ]
    }
   ],
   "source": [
    "import seaborn as sns\n",
    "import pandas as pd\n",
    "from sklearn.preprocessing import OneHotEncoder\n",
    "\n",
    "# Load Titanic dataset from seaborn\n",
    "titanic = sns.load_dataset('titanic')\n",
    "\n",
    "# Prepare data focusing on the 'Sex' column\n",
    "data = titanic[['sex']].dropna()\n",
    "\n",
    "# Apply One-Hot Encoding to 'Sex' with dropping the first category to avoid dummy variable trap\n",
    "onehot_encoder = OneHotEncoder(drop='first', sparse=False)\n",
    "data_onehot = onehot_encoder.fit_transform(data[['sex']])\n",
    "\n",
    "# Convert the array returned by OneHotEncoder into a DataFrame\n",
    "columns = onehot_encoder.get_feature_names_out(['sex'])\n",
    "data_encoded = pd.DataFrame(data_onehot, columns=columns)\n",
    "\n",
    "# If the original data index is not continuous, reset index of the original data to align with the encoded DataFrame\n",
    "data.reset_index(drop=True, inplace=True)\n",
    "\n",
    "# Concatenate the encoded DataFrame with the original data (optional, for demonstration)\n",
    "data_concatenated = pd.concat([data, data_encoded], axis=1)\n",
    "\n",
    "print(data_concatenated.head())"
   ]
  },
  {
   "cell_type": "code",
   "execution_count": 5,
   "id": "378cef78",
   "metadata": {
    "execution": {
     "iopub.execute_input": "2024-02-20T09:02:58.910198Z",
     "iopub.status.busy": "2024-02-20T09:02:58.909806Z",
     "iopub.status.idle": "2024-02-20T09:02:58.935652Z",
     "shell.execute_reply": "2024-02-20T09:02:58.933952Z"
    },
    "papermill": {
     "duration": 0.032988,
     "end_time": "2024-02-20T09:02:58.938231",
     "exception": false,
     "start_time": "2024-02-20T09:02:58.905243",
     "status": "completed"
    },
    "tags": []
   },
   "outputs": [
    {
     "name": "stdout",
     "output_type": "stream",
     "text": [
      "   sex_male  embarked_Q  embarked_S  class_Second  class_Third\n",
      "0      True       False        True         False         True\n",
      "1     False       False       False         False        False\n",
      "2     False       False        True         False         True\n",
      "3     False       False        True         False        False\n",
      "4      True       False        True         False         True\n"
     ]
    }
   ],
   "source": [
    "import seaborn as sns\n",
    "import pandas as pd\n",
    "\n",
    "# Load Titanic dataset from seaborn\n",
    "titanic = sns.load_dataset('titanic')\n",
    "\n",
    "# Selecting a subset of columns for demonstration\n",
    "data = titanic[['sex', 'embarked', 'class']].dropna()\n",
    "\n",
    "# Applying get_dummies to 'sex', 'embarked', and 'class' columns with drop_first=True\n",
    "data_encoded = pd.get_dummies(data, columns=['sex', 'embarked', 'class'], drop_first=True)\n",
    "\n",
    "print(data_encoded.head())"
   ]
  }
 ],
 "metadata": {
  "kaggle": {
   "accelerator": "none",
   "dataSources": [],
   "dockerImageVersionId": 30646,
   "isGpuEnabled": false,
   "isInternetEnabled": true,
   "language": "python",
   "sourceType": "notebook"
  },
  "kernelspec": {
   "display_name": "Python 3",
   "language": "python",
   "name": "python3"
  },
  "language_info": {
   "codemirror_mode": {
    "name": "ipython",
    "version": 3
   },
   "file_extension": ".py",
   "mimetype": "text/x-python",
   "name": "python",
   "nbconvert_exporter": "python",
   "pygments_lexer": "ipython3",
   "version": "3.10.13"
  },
  "papermill": {
   "default_parameters": {},
   "duration": 6.975358,
   "end_time": "2024-02-20T09:02:59.563707",
   "environment_variables": {},
   "exception": null,
   "input_path": "__notebook__.ipynb",
   "output_path": "__notebook__.ipynb",
   "parameters": {},
   "start_time": "2024-02-20T09:02:52.588349",
   "version": "2.5.0"
  }
 },
 "nbformat": 4,
 "nbformat_minor": 5
}
