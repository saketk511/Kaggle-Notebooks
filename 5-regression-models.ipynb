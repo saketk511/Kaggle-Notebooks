{
 "cells": [
  {
   "cell_type": "code",
   "execution_count": 1,
   "id": "fa25f138",
   "metadata": {
    "_cell_guid": "b1076dfc-b9ad-4769-8c92-a6c4dae69d19",
    "_uuid": "8f2839f25d086af736a60e9eeb907d3b93b6e0e5",
    "execution": {
     "iopub.execute_input": "2024-02-20T10:08:33.833488Z",
     "iopub.status.busy": "2024-02-20T10:08:33.832801Z",
     "iopub.status.idle": "2024-02-20T10:08:34.687284Z",
     "shell.execute_reply": "2024-02-20T10:08:34.686186Z"
    },
    "papermill": {
     "duration": 0.866887,
     "end_time": "2024-02-20T10:08:34.690034",
     "exception": false,
     "start_time": "2024-02-20T10:08:33.823147",
     "status": "completed"
    },
    "tags": []
   },
   "outputs": [],
   "source": [
    "# This Python 3 environment comes with many helpful analytics libraries installed\n",
    "# It is defined by the kaggle/python Docker image: https://github.com/kaggle/docker-python\n",
    "# For example, here's several helpful packages to load\n",
    "\n",
    "import numpy as np # linear algebra\n",
    "import pandas as pd # data processing, CSV file I/O (e.g. pd.read_csv)\n",
    "\n",
    "# Input data files are available in the read-only \"../input/\" directory\n",
    "# For example, running this (by clicking run or pressing Shift+Enter) will list all files under the input directory\n",
    "\n",
    "import os\n",
    "for dirname, _, filenames in os.walk('/kaggle/input'):\n",
    "    for filename in filenames:\n",
    "        print(os.path.join(dirname, filename))\n",
    "\n",
    "# You can write up to 20GB to the current directory (/kaggle/working/) that gets preserved as output when you create a version using \"Save & Run All\" \n",
    "# You can also write temporary files to /kaggle/temp/, but they won't be saved outside of the current session"
   ]
  },
  {
   "cell_type": "code",
   "execution_count": 2,
   "id": "ff083331",
   "metadata": {
    "execution": {
     "iopub.execute_input": "2024-02-20T10:08:34.707497Z",
     "iopub.status.busy": "2024-02-20T10:08:34.706997Z",
     "iopub.status.idle": "2024-02-20T10:08:34.711785Z",
     "shell.execute_reply": "2024-02-20T10:08:34.710782Z"
    },
    "papermill": {
     "duration": 0.015931,
     "end_time": "2024-02-20T10:08:34.713967",
     "exception": false,
     "start_time": "2024-02-20T10:08:34.698036",
     "status": "completed"
    },
    "tags": []
   },
   "outputs": [],
   "source": [
    "import warnings\n",
    "warnings.filterwarnings(\"ignore\")"
   ]
  },
  {
   "cell_type": "code",
   "execution_count": 3,
   "id": "e37d232f",
   "metadata": {
    "execution": {
     "iopub.execute_input": "2024-02-20T10:08:34.730842Z",
     "iopub.status.busy": "2024-02-20T10:08:34.730222Z",
     "iopub.status.idle": "2024-02-20T10:08:38.928517Z",
     "shell.execute_reply": "2024-02-20T10:08:38.927411Z"
    },
    "papermill": {
     "duration": 4.209964,
     "end_time": "2024-02-20T10:08:38.931407",
     "exception": false,
     "start_time": "2024-02-20T10:08:34.721443",
     "status": "completed"
    },
    "tags": []
   },
   "outputs": [
    {
     "name": "stdout",
     "output_type": "stream",
     "text": [
      "   MedInc  HouseAge  AveRooms  AveBedrms  Population  AveOccup  Latitude  \\\n",
      "0  8.3252      41.0  6.984127   1.023810       322.0  2.555556     37.88   \n",
      "1  8.3014      21.0  6.238137   0.971880      2401.0  2.109842     37.86   \n",
      "2  7.2574      52.0  8.288136   1.073446       496.0  2.802260     37.85   \n",
      "3  5.6431      52.0  5.817352   1.073059       558.0  2.547945     37.85   \n",
      "4  3.8462      52.0  6.281853   1.081081       565.0  2.181467     37.85   \n",
      "\n",
      "   Longitude  \n",
      "0    -122.23  \n",
      "1    -122.22  \n",
      "2    -122.24  \n",
      "3    -122.25  \n",
      "4    -122.25  \n"
     ]
    }
   ],
   "source": [
    "# Importing dataset\n",
    "from sklearn.datasets import fetch_california_housing\n",
    "\n",
    "# Fetch the California housing dataset\n",
    "california_housing = fetch_california_housing()\n",
    "\n",
    "# Convert the data and target to a DataFrame\n",
    "X_california = pd.DataFrame(california_housing.data, columns=california_housing.feature_names)\n",
    "y_california = pd.Series(california_housing.target)\n",
    "\n",
    "# Now, you can use the .head() method to view the first few rows of the dataset\n",
    "print(X_california.head())"
   ]
  },
  {
   "cell_type": "markdown",
   "id": "da95957c",
   "metadata": {
    "papermill": {
     "duration": 0.00803,
     "end_time": "2024-02-20T10:08:38.947681",
     "exception": false,
     "start_time": "2024-02-20T10:08:38.939651",
     "status": "completed"
    },
    "tags": []
   },
   "source": [
    "#### Linear Regression Code"
   ]
  },
  {
   "attachments": {
    "40f2874d-1d5d-48df-a331-9500b2a76b8d.png": {
     "image/png": "[encoded data removed]"
    }
   },
   "cell_type": "markdown",
   "id": "40f7ba8c",
   "metadata": {
    "papermill": {
     "duration": 0.007301,
     "end_time": "2024-02-20T10:08:38.962532",
     "exception": false,
     "start_time": "2024-02-20T10:08:38.955231",
     "status": "completed"
    },
    "tags": []
   },
   "source": [
    "![image.png](attachment:40f2874d-1d5d-48df-a331-9500b2a76b8d.png)"
   ]
  },
  {
   "cell_type": "code",
   "execution_count": 4,
   "id": "1dfb73c6",
   "metadata": {
    "execution": {
     "iopub.execute_input": "2024-02-20T10:08:38.979812Z",
     "iopub.status.busy": "2024-02-20T10:08:38.979422Z",
     "iopub.status.idle": "2024-02-20T10:08:39.227468Z",
     "shell.execute_reply": "2024-02-20T10:08:39.225761Z"
    },
    "papermill": {
     "duration": 0.265968,
     "end_time": "2024-02-20T10:08:39.236469",
     "exception": false,
     "start_time": "2024-02-20T10:08:38.970501",
     "status": "completed"
    },
    "tags": []
   },
   "outputs": [
    {
     "name": "stdout",
     "output_type": "stream",
     "text": [
      "MSE (Linear Regression with California dataset using multiple features): 0.5558915986952442\n",
      "R² (Linear Regression with California dataset using multiple features): 0.575787706032451\n"
     ]
    }
   ],
   "source": [
    "# Import Necessary Libraries\n",
    "from sklearn.model_selection import train_test_split\n",
    "from sklearn.linear_model import LinearRegression\n",
    "from sklearn.metrics import mean_squared_error, r2_score\n",
    "from sklearn.preprocessing import StandardScaler\n",
    "\n",
    "# Instead of using a single feature, let's use all the features available\n",
    "\n",
    "# Data splitting\n",
    "X_train_california, X_test_california, y_train_california, y_test_california = train_test_split(X_california, y_california, test_size=0.2, random_state=42)\n",
    "\n",
    "# Data transformation\n",
    "scaler = StandardScaler()\n",
    "X_train_scaled_california = scaler.fit_transform(X_train_california)\n",
    "X_test_scaled_california = scaler.transform(X_test_california)\n",
    "\n",
    "# Model training\n",
    "model_california = LinearRegression()\n",
    "model_california.fit(X_train_scaled_california, y_train_california)\n",
    "\n",
    "# Predictions\n",
    "predictions_california = model_california.predict(X_test_scaled_california)\n",
    "\n",
    "# Evaluation\n",
    "mse_california = mean_squared_error(y_test_california, predictions_california)\n",
    "r2_california = r2_score(y_test_california, predictions_california)\n",
    "\n",
    "print(f\"MSE (Linear Regression with California dataset using multiple features): {mse_california}\")\n",
    "print(f\"R² (Linear Regression with California dataset using multiple features): {r2_california}\")"
   ]
  },
  {
   "cell_type": "markdown",
   "id": "415cc784",
   "metadata": {
    "papermill": {
     "duration": 0.028784,
     "end_time": "2024-02-20T10:08:39.300937",
     "exception": false,
     "start_time": "2024-02-20T10:08:39.272153",
     "status": "completed"
    },
    "tags": []
   },
   "source": [
    "#### Ridge Regression Code"
   ]
  },
  {
   "attachments": {
    "44f5c8c8-efe0-4058-b100-80f55d76c7e2.png": {
     "image/png": "[encoded data removed]"
    }
   },
   "cell_type": "markdown",
   "id": "28255856",
   "metadata": {
    "papermill": {
     "duration": 0.017223,
     "end_time": "2024-02-20T10:08:39.347553",
     "exception": false,
     "start_time": "2024-02-20T10:08:39.330330",
     "status": "completed"
    },
    "tags": []
   },
   "source": [
    "![image.png](attachment:44f5c8c8-efe0-4058-b100-80f55d76c7e2.png)"
   ]
  },
  {
   "cell_type": "code",
   "execution_count": 5,
   "id": "ad01eaeb",
   "metadata": {
    "execution": {
     "iopub.execute_input": "2024-02-20T10:08:39.365019Z",
     "iopub.status.busy": "2024-02-20T10:08:39.364633Z",
     "iopub.status.idle": "2024-02-20T10:08:40.269911Z",
     "shell.execute_reply": "2024-02-20T10:08:40.268224Z"
    },
    "papermill": {
     "duration": 0.919226,
     "end_time": "2024-02-20T10:08:40.274717",
     "exception": false,
     "start_time": "2024-02-20T10:08:39.355491",
     "status": "completed"
    },
    "tags": []
   },
   "outputs": [
    {
     "name": "stdout",
     "output_type": "stream",
     "text": [
      "Best parameters: {'alpha': 0.08858667904100823}\n",
      "MSE (Ridge Regression with California dataset using multiple features): 0.5558883343065736\n",
      "R² (Ridge Regression with California dataset using multiple features): 0.5757901971544783\n",
      "Cross-validation R² scores: [0.62011468 0.61298862 0.61344084 0.61069981 0.60017603]\n",
      "Mean cross-validation R²: 0.6114839941232662\n"
     ]
    }
   ],
   "source": [
    "# Import necessary libraries\n",
    "from sklearn.model_selection import train_test_split, GridSearchCV, cross_val_score\n",
    "from sklearn.linear_model import Ridge\n",
    "from sklearn.metrics import mean_squared_error, r2_score\n",
    "from sklearn.preprocessing import StandardScaler\n",
    "\n",
    "# Data splitting\n",
    "X_train_california, X_test_california, y_train_california, y_test_california = train_test_split(X_california, y_california, test_size=0.2, random_state=42)\n",
    "\n",
    "# Data transformation\n",
    "scaler = StandardScaler()\n",
    "X_train_scaled_california = scaler.fit_transform(X_train_california)\n",
    "X_test_scaled_california = scaler.transform(X_test_california)\n",
    "\n",
    "# Model training with Ridge Regression\n",
    "ridge = Ridge()\n",
    "\n",
    "# Define a range of hyperparameters for tuning\n",
    "parameters = {'alpha': np.logspace(-4, 4, 20)} # np.logspace(-4, 4, 20), generates 20 values for alpha logarithmically spaced between 10^−4 and 10^4\n",
    " \n",
    "# Use GridSearchCV for hyperparameter tuning and cross-validation\n",
    "ridge_regressor = GridSearchCV(ridge, parameters, scoring='neg_mean_squared_error', cv=5)\n",
    "ridge_regressor.fit(X_train_scaled_california, y_train_california)\n",
    "\n",
    "# Best model after hyperparameter tuning\n",
    "print(f\"Best parameters: {ridge_regressor.best_params_}\")\n",
    "best_ridge_model = ridge_regressor.best_estimator_\n",
    "\n",
    "# Predictions\n",
    "predictions_california = best_ridge_model.predict(X_test_scaled_california)\n",
    "\n",
    "# Evaluation\n",
    "mse_california = mean_squared_error(y_test_california, predictions_california)\n",
    "r2_california = r2_score(y_test_california, predictions_california)\n",
    "\n",
    "# Cross-validation scores\n",
    "cross_val_scores = cross_val_score(best_ridge_model, X_train_scaled_california, y_train_california, cv=5, scoring='r2')\n",
    "print(f\"MSE (Ridge Regression with California dataset using multiple features): {mse_california}\")\n",
    "print(f\"R² (Ridge Regression with California dataset using multiple features): {r2_california}\")\n",
    "print(f\"Cross-validation R² scores: {cross_val_scores}\")\n",
    "print(f\"Mean cross-validation R²: {np.mean(cross_val_scores)}\")"
   ]
  },
  {
   "cell_type": "markdown",
   "id": "49681e02",
   "metadata": {
    "papermill": {
     "duration": 0.015853,
     "end_time": "2024-02-20T10:08:40.307560",
     "exception": false,
     "start_time": "2024-02-20T10:08:40.291707",
     "status": "completed"
    },
    "tags": []
   },
   "source": [
    "#### Lasso Regression Code"
   ]
  },
  {
   "attachments": {
    "23a079bf-4aa5-4fab-bf1d-7cb4588d4313.png": {
     "image/png": "[encoded data removed]"
    }
   },
   "cell_type": "markdown",
   "id": "4eadac48",
   "metadata": {
    "papermill": {
     "duration": 0.015694,
     "end_time": "2024-02-20T10:08:40.339651",
     "exception": false,
     "start_time": "2024-02-20T10:08:40.323957",
     "status": "completed"
    },
    "tags": []
   },
   "source": [
    "![image.png](attachment:23a079bf-4aa5-4fab-bf1d-7cb4588d4313.png)"
   ]
  },
  {
   "cell_type": "code",
   "execution_count": 6,
   "id": "5d8344ba",
   "metadata": {
    "execution": {
     "iopub.execute_input": "2024-02-20T10:08:40.376424Z",
     "iopub.status.busy": "2024-02-20T10:08:40.375565Z",
     "iopub.status.idle": "2024-02-20T10:08:43.568888Z",
     "shell.execute_reply": "2024-02-20T10:08:43.566576Z"
    },
    "papermill": {
     "duration": 3.216014,
     "end_time": "2024-02-20T10:08:43.572770",
     "exception": false,
     "start_time": "2024-02-20T10:08:40.356756",
     "status": "completed"
    },
    "tags": []
   },
   "outputs": [
    {
     "name": "stdout",
     "output_type": "stream",
     "text": [
      "Best parameters: {'alpha': 0.0006951927961775605}\n",
      "MSE (Lasso Regression with California dataset using multiple features): 0.5549027801255276\n",
      "R² (Lasso Regression with California dataset using multiple features): 0.5765422937879804\n",
      "Adjusted R² (Lasso Regression with California dataset using multiple features): 0.5757198461915501\n",
      "Cross-validation R² scores: [0.61997027 0.61295365 0.61336948 0.61077418 0.60044958]\n",
      "Mean cross-validation R²: 0.6115034304875836\n"
     ]
    }
   ],
   "source": [
    "# Import Libraries\n",
    "from sklearn.model_selection import train_test_split, GridSearchCV, cross_val_score\n",
    "from sklearn.linear_model import Lasso\n",
    "from sklearn.metrics import mean_squared_error, r2_score\n",
    "from sklearn.preprocessing import StandardScaler\n",
    "\n",
    "# Data splitting\n",
    "X_train_california, X_test_california, y_train_california, y_test_california = train_test_split(X_california, y_california, test_size=0.2, random_state=42)\n",
    "\n",
    "# Data transformation\n",
    "scaler = StandardScaler()\n",
    "X_train_scaled_california = scaler.fit_transform(X_train_california)\n",
    "X_test_scaled_california = scaler.transform(X_test_california)\n",
    "\n",
    "# Model training with Lasso Regression\n",
    "lasso = Lasso()\n",
    "\n",
    "# Define a range of hyperparameters for tuning\n",
    "parameters = {'alpha': np.logspace(-4, 4, 20)}\n",
    "\n",
    "# Use GridSearchCV for hyperparameter tuning and cross-validation\n",
    "lasso_regressor = GridSearchCV(lasso, parameters, scoring='neg_mean_squared_error', cv=5)\n",
    "lasso_regressor.fit(X_train_scaled_california, y_train_california)\n",
    "\n",
    "# Best model after hyperparameter tuning\n",
    "print(f\"Best parameters: {lasso_regressor.best_params_}\")\n",
    "best_lasso_model = lasso_regressor.best_estimator_\n",
    "\n",
    "# Predictions\n",
    "predictions_california = best_lasso_model.predict(X_test_scaled_california)\n",
    "\n",
    "# Evaluation\n",
    "mse_california = mean_squared_error(y_test_california, predictions_california)\n",
    "r2_california = r2_score(y_test_california, predictions_california)\n",
    "\n",
    "# Calculate Adjusted R²\n",
    "n = X_test_california.shape[0]  # number of observations\n",
    "p = X_test_california.shape[1]  # number of predictors\n",
    "adjusted_r2_california = 1 - (1 - r2_california) * (n - 1) / (n - p - 1)\n",
    "\n",
    "# Cross-validation scores\n",
    "cross_val_scores = cross_val_score(best_lasso_model, X_train_scaled_california, y_train_california, cv=5, scoring='r2')\n",
    "print(f\"MSE (Lasso Regression with California dataset using multiple features): {mse_california}\")\n",
    "print(f\"R² (Lasso Regression with California dataset using multiple features): {r2_california}\")\n",
    "print(f\"Adjusted R² (Lasso Regression with California dataset using multiple features): {adjusted_r2_california}\")\n",
    "print(f\"Cross-validation R² scores: {cross_val_scores}\")\n",
    "print(f\"Mean cross-validation R²: {np.mean(cross_val_scores)}\")"
   ]
  },
  {
   "cell_type": "markdown",
   "id": "9abbf5cb",
   "metadata": {
    "papermill": {
     "duration": 0.055564,
     "end_time": "2024-02-20T10:08:43.675361",
     "exception": false,
     "start_time": "2024-02-20T10:08:43.619797",
     "status": "completed"
    },
    "tags": []
   },
   "source": [
    "#### Elastic Net Code"
   ]
  },
  {
   "attachments": {
    "e3f2d1ae-82a2-44bc-bd16-1df9e0b6f804.png": {
     "image/png": "[encoded data removed]"
    }
   },
   "cell_type": "markdown",
   "id": "38f52d9d",
   "metadata": {
    "papermill": {
     "duration": 0.008189,
     "end_time": "2024-02-20T10:08:43.695816",
     "exception": false,
     "start_time": "2024-02-20T10:08:43.687627",
     "status": "completed"
    },
    "tags": []
   },
   "source": [
    "![image.png](attachment:e3f2d1ae-82a2-44bc-bd16-1df9e0b6f804.png)"
   ]
  },
  {
   "cell_type": "code",
   "execution_count": 7,
   "id": "41b089cc",
   "metadata": {
    "execution": {
     "iopub.execute_input": "2024-02-20T10:08:43.713487Z",
     "iopub.status.busy": "2024-02-20T10:08:43.713080Z",
     "iopub.status.idle": "2024-02-20T10:09:07.185316Z",
     "shell.execute_reply": "2024-02-20T10:09:07.182107Z"
    },
    "papermill": {
     "duration": 23.486575,
     "end_time": "2024-02-20T10:09:07.190425",
     "exception": false,
     "start_time": "2024-02-20T10:08:43.703850",
     "status": "completed"
    },
    "tags": []
   },
   "outputs": [
    {
     "name": "stdout",
     "output_type": "stream",
     "text": [
      "Best parameters: {'alpha': 0.000774263682681127, 'l1_ratio': 1.0}\n",
      "MSE (Elastic Net Regression with California dataset using multiple features): 0.554794797137525\n",
      "R² (Elastic Net Regression with California dataset using multiple features): 0.5766246978235111\n",
      "Adjusted R² (Elastic Net Regression with California dataset using multiple features): 0.5758024102737631\n"
     ]
    }
   ],
   "source": [
    "# Import Libraries\n",
    "from sklearn.model_selection import train_test_split, GridSearchCV\n",
    "from sklearn.linear_model import ElasticNet\n",
    "from sklearn.metrics import mean_squared_error, r2_score\n",
    "from sklearn.preprocessing import StandardScaler\n",
    "\n",
    "# Data splitting\n",
    "X_train_california, X_test_california, y_train_california, y_test_california = train_test_split(X_california, y_california, test_size=0.2, random_state=42)\n",
    "\n",
    "# Data transformation\n",
    "scaler = StandardScaler()\n",
    "X_train_scaled_california = scaler.fit_transform(X_train_california)\n",
    "X_test_scaled_california = scaler.transform(X_test_california)\n",
    "\n",
    "# Elastic Net model training\n",
    "elastic_net = ElasticNet()\n",
    "\n",
    "# Define a range of hyperparameters for tuning\n",
    "parameters = {\n",
    "    'alpha': np.logspace(-4, 4, 10),\n",
    "    'l1_ratio': np.linspace(0, 1, 10)\n",
    "}\n",
    "# In Elastic Net regularization, l1_ratio is a parameter that determines the mixing ratio between Lasso (L1) and Ridge (L2) penalties. \n",
    "# It takes values between 0 and 1, inclusive, where:\n",
    "\n",
    "    # l1_ratio = 0 corresponds to Ridge regression, where only the L2 penalty is used.\n",
    "    # l1_ratio = 1 corresponds to Lasso regression, where only the L1 penalty is used.\n",
    "    # 0 < l1_ratio < 1 corresponds to a combination of L1 and L2 penalties, where both penalties are used simultaneously.\n",
    "\n",
    "# Use GridSearchCV for hyperparameter tuning and cross-validation\n",
    "elastic_net_regressor = GridSearchCV(elastic_net, parameters, scoring='neg_mean_squared_error', cv=5)\n",
    "elastic_net_regressor.fit(X_train_scaled_california, y_train_california)\n",
    "\n",
    "# Best model after hyperparameter tuning\n",
    "print(f\"Best parameters: {elastic_net_regressor.best_params_}\")\n",
    "best_elastic_net_model = elastic_net_regressor.best_estimator_\n",
    "\n",
    "# Predictions\n",
    "predictions_california = best_elastic_net_model.predict(X_test_scaled_california)\n",
    "\n",
    "# Evaluation\n",
    "mse_california = mean_squared_error(y_test_california, predictions_california)\n",
    "r2_california = r2_score(y_test_california, predictions_california)\n",
    "\n",
    "# Calculate Adjusted R²\n",
    "n = X_test_california.shape[0]  # number of observations\n",
    "p = X_test_california.shape[1]  # number of predictors\n",
    "adjusted_r2_california = 1 - (1 - r2_california) * (n - 1) / (n - p - 1)\n",
    "\n",
    "print(f\"MSE (Elastic Net Regression with California dataset using multiple features): {mse_california}\")\n",
    "print(f\"R² (Elastic Net Regression with California dataset using multiple features): {r2_california}\")\n",
    "print(f\"Adjusted R² (Elastic Net Regression with California dataset using multiple features): {adjusted_r2_california}\")"
   ]
  },
  {
   "cell_type": "markdown",
   "id": "42397b84",
   "metadata": {
    "papermill": {
     "duration": 0.035191,
     "end_time": "2024-02-20T10:09:07.250065",
     "exception": false,
     "start_time": "2024-02-20T10:09:07.214874",
     "status": "completed"
    },
    "tags": []
   },
   "source": [
    "#### Polynomial Regression"
   ]
  },
  {
   "cell_type": "code",
   "execution_count": 8,
   "id": "2e5875dc",
   "metadata": {
    "execution": {
     "iopub.execute_input": "2024-02-20T10:09:07.297139Z",
     "iopub.status.busy": "2024-02-20T10:09:07.296620Z",
     "iopub.status.idle": "2024-02-20T10:09:08.535356Z",
     "shell.execute_reply": "2024-02-20T10:09:08.533889Z"
    },
    "papermill": {
     "duration": 1.256816,
     "end_time": "2024-02-20T10:09:08.539881",
     "exception": false,
     "start_time": "2024-02-20T10:09:07.283065",
     "status": "completed"
    },
    "tags": []
   },
   "outputs": [
    {
     "name": "stdout",
     "output_type": "stream",
     "text": [
      "Best parameters: {'alpha': 1291.5496650148827}\n",
      "MSE (Polynomial Regression): 0.571849761678651\n",
      "R² (Polynomial Regression): 0.5636097041655611\n",
      "Adjusted R² (Polynomial Regression): 0.5589069921849794\n",
      "Cross-validation R² scores: [0.61307285 0.60837093 0.59925749 0.58749147 0.59671198]\n",
      "Mean cross-validation R²: 0.6009809470312093\n"
     ]
    }
   ],
   "source": [
    "# Import necessary libraries\n",
    "from sklearn.model_selection import train_test_split, GridSearchCV, cross_val_score\n",
    "from sklearn.linear_model import Ridge  # Using Ridge regression to include regularization\n",
    "from sklearn.metrics import mean_squared_error, r2_score\n",
    "from sklearn.preprocessing import StandardScaler, PolynomialFeatures\n",
    "\n",
    "# Data splitting\n",
    "X_train, X_test, y_train, y_test = train_test_split(X_california, y_california, test_size=0.2, random_state=42)\n",
    "\n",
    "# Data transformation with Polynomial Features\n",
    "poly_degree = 2  # Degree of the polynomial features, polynomial of degree n can model up to n-1 turning points\n",
    "poly_features = PolynomialFeatures(degree=poly_degree, include_bias=False)\n",
    "X_train_poly = poly_features.fit_transform(X_train)\n",
    "X_test_poly = poly_features.transform(X_test)\n",
    "\n",
    "# Data scaling\n",
    "scaler = StandardScaler()\n",
    "X_train_poly_scaled = scaler.fit_transform(X_train_poly)\n",
    "X_test_poly_scaled = scaler.transform(X_test_poly)\n",
    "\n",
    "# Model training with Ridge Regression (to include regularization)\n",
    "ridge = Ridge()\n",
    "\n",
    "# Hyperparameter tuning with GridSearchCV\n",
    "parameters = {'alpha': np.logspace(-4, 4, 10)}\n",
    "ridge_regressor = GridSearchCV(ridge, parameters, scoring='neg_mean_squared_error', cv=5)\n",
    "ridge_regressor.fit(X_train_poly_scaled, y_train)\n",
    "\n",
    "# Best model after hyperparameter tuning\n",
    "print(f\"Best parameters: {ridge_regressor.best_params_}\")\n",
    "best_model = ridge_regressor.best_estimator_\n",
    "\n",
    "# Predictions\n",
    "predictions = best_model.predict(X_test_poly_scaled)\n",
    "\n",
    "# Evaluation\n",
    "mse = mean_squared_error(y_test, predictions)\n",
    "r2 = r2_score(y_test, predictions)\n",
    "\n",
    "# Calculate Adjusted R²\n",
    "n = X_test_poly_scaled.shape[0]  # Number of observations\n",
    "p = X_test_poly_scaled.shape[1]  # Number of predictors\n",
    "adjusted_r2 = 1 - (1 - r2) * (n - 1) / (n - p - 1)\n",
    "\n",
    "# Cross-validation scores\n",
    "cross_val_scores = cross_val_score(best_model, X_train_poly_scaled, y_train, cv=5, scoring='r2')\n",
    "print(f\"MSE (Polynomial Regression): {mse}\")\n",
    "print(f\"R² (Polynomial Regression): {r2}\")\n",
    "print(f\"Adjusted R² (Polynomial Regression): {adjusted_r2}\")\n",
    "print(f\"Cross-validation R² scores: {cross_val_scores}\")\n",
    "print(f\"Mean cross-validation R²: {np.mean(cross_val_scores)}\")"
   ]
  }
 ],
 "metadata": {
  "kaggle": {
   "accelerator": "none",
   "dataSources": [],
   "dockerImageVersionId": 30646,
   "isGpuEnabled": false,
   "isInternetEnabled": true,
   "language": "python",
   "sourceType": "notebook"
  },
  "kernelspec": {
   "display_name": "Python 3",
   "language": "python",
   "name": "python3"
  },
  "language_info": {
   "codemirror_mode": {
    "name": "ipython",
    "version": 3
   },
   "file_extension": ".py",
   "mimetype": "text/x-python",
   "name": "python",
   "nbconvert_exporter": "python",
   "pygments_lexer": "ipython3",
   "version": "3.10.13"
  },
  "papermill": {
   "default_parameters": {},
   "duration": 38.169378,
   "end_time": "2024-02-20T10:09:09.182004",
   "environment_variables": {},
   "exception": null,
   "input_path": "__notebook__.ipynb",
   "output_path": "__notebook__.ipynb",
   "parameters": {},
   "start_time": "2024-02-20T10:08:31.012626",
   "version": "2.5.0"
  }
 },
 "nbformat": 4,
 "nbformat_minor": 5
}
